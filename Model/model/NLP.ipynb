{
 "cells": [
  {
   "cell_type": "code",
   "execution_count": 1,
   "outputs": [
    {
     "name": "stderr",
     "output_type": "stream",
     "text": [
      "[nltk_data] Downloading package punkt to\n",
      "[nltk_data]     /Users/balazsszabo/nltk_data...\n",
      "[nltk_data]   Package punkt is already up-to-date!\n",
      "[nltk_data] Downloading package averaged_perceptron_tagger to\n",
      "[nltk_data]     /Users/balazsszabo/nltk_data...\n",
      "[nltk_data]   Package averaged_perceptron_tagger is already up-to-\n",
      "[nltk_data]       date!\n",
      "[nltk_data] Downloading package maxent_ne_chunker to\n",
      "[nltk_data]     /Users/balazsszabo/nltk_data...\n",
      "[nltk_data]   Package maxent_ne_chunker is already up-to-date!\n",
      "[nltk_data] Downloading package words to\n",
      "[nltk_data]     /Users/balazsszabo/nltk_data...\n",
      "[nltk_data]   Package words is already up-to-date!\n",
      "[nltk_data] Downloading package wordnet to\n",
      "[nltk_data]     /Users/balazsszabo/nltk_data...\n",
      "[nltk_data]   Package wordnet is already up-to-date!\n",
      "[nltk_data] Downloading package omw-1.4 to\n",
      "[nltk_data]     /Users/balazsszabo/nltk_data...\n",
      "[nltk_data]   Package omw-1.4 is already up-to-date!\n"
     ]
    }
   ],
   "source": [
    "import nltk\n",
    "nltk.download('punkt')\n",
    "nltk.download('averaged_perceptron_tagger')\n",
    "nltk.download('maxent_ne_chunker')\n",
    "nltk.download('words')\n",
    "nltk.download('wordnet')\n",
    "nltk.download('omw-1.4')\n",
    "import spacy\n",
    "from spacy.language import Language\n",
    "from spacy import displacy\n",
    "from spacy.tokens import Span\n",
    "from spacy.matcher import PhraseMatcher\n",
    "from spacy.matcher import Matcher\n",
    "from nltk.tokenize import word_tokenize\n",
    "import re"
   ],
   "metadata": {
    "collapsed": false,
    "pycharm": {
     "name": "#%%\n"
    }
   }
  },
  {
   "cell_type": "code",
   "execution_count": 2,
   "outputs": [],
   "source": [
    "@Language.factory('make_street_entity_matcher')\n",
    "def make_street_entity_matcher(nlp, name, file_name:str, entity_name:str, pattern):\n",
    "    return EntityMatcher(nlp, file_name, entity_name,pattern)"
   ],
   "metadata": {
    "collapsed": false,
    "pycharm": {
     "name": "#%%\n"
    }
   }
  },
  {
   "cell_type": "code",
   "execution_count": 3,
   "outputs": [
    {
     "name": "stdout",
     "output_type": "stream",
     "text": [
      "re.compile('^[A-Z][0-9]{1,5}.*')\n",
      "^[A-Z][0-9]{1,5}.*\n"
     ]
    }
   ],
   "source": [],
   "metadata": {
    "collapsed": false,
    "pycharm": {
     "name": "#%%\n"
    }
   }
  },
  {
   "cell_type": "code",
   "execution_count": 6,
   "outputs": [],
   "source": [
    "class EntityMatcher:\n",
    "    def __init__(self, nlp, file_name, entity_name, pattern):\n",
    "        if file_name:\n",
    "            line_list = open(file_name,'r').readlines()\n",
    "            phrase_list = []\n",
    "            for l in line_list:\n",
    "                phrase_list.append(l.strip())\n",
    "            phrase_patterns = [nlp(text) for text in phrase_list]\n",
    "            self.phrase_matcher = PhraseMatcher(nlp.vocab, attr=\"LOWER\")\n",
    "            self.phrase_matcher.add(entity_name, None, *phrase_patterns )\n",
    "        if pattern:\n",
    "            self.matcher = Matcher(nlp.vocab)\n",
    "            self.matcher.add(entity_name, [pattern] )\n",
    "\n",
    "    def __call__(self, doc):\n",
    "        matches = set()\n",
    "        if self.matcher:\n",
    "            matches.update(self.matcher(doc))\n",
    "\n",
    "        if self.phrase_matcher:\n",
    "            matches.update(self.phrase_matcher(doc))\n",
    "        seen_tokens = set()\n",
    "        new_entities = []\n",
    "        entities = doc.ents\n",
    "        for match_id, start, end in matches:\n",
    "            if start not in seen_tokens and end - 1 not in seen_tokens:\n",
    "                new_entities.append(Span(doc, start, end, label=match_id))\n",
    "                entities = [\n",
    "                    e for e in entities if not (e.start < end and e.end > start)\n",
    "                ]\n",
    "                seen_tokens.update(range(start, end))\n",
    "\n",
    "        doc.ents = tuple(entities) + tuple(new_entities)\n",
    "        return doc"
   ],
   "metadata": {
    "collapsed": false,
    "pycharm": {
     "name": "#%%\n"
    }
   }
  },
  {
   "cell_type": "code",
   "execution_count": 7,
   "outputs": [
    {
     "data": {
      "text/plain": "<__main__.EntityMatcher at 0x13800dcf8>"
     },
     "execution_count": 7,
     "metadata": {},
     "output_type": "execute_result"
    }
   ],
   "source": [
    "#nlp = spacy.load(\"nl_core_news_sm\")\n",
    "nlp = spacy.load(\"en_core_web_sm\")\n",
    "\n",
    "regex =[{\"TEXT\": {\"REGEX\": \"^[A-Z][0-9]{1,5}.*\"}}]\n",
    "nlp.add_pipe(\"make_street_entity_matcher\", config={\"file_name\":'../../Data/street_names_north_holland.txt',\"entity_name\": \"STREET\", \"pattern\": regex}, after=\"ner\")"
   ],
   "metadata": {
    "collapsed": false,
    "pycharm": {
     "name": "#%%\n"
    }
   }
  },
  {
   "cell_type": "code",
   "execution_count": 8,
   "outputs": [],
   "source": [
    "file = '../../Data/AH/Haarlemmerdijk 1.txt'\n",
    "tokenisedList = []\n",
    "with open(file,'r') as f:\n",
    "    line = f.readline()\n",
    "    while line:\n",
    "        line = f.readline()\n",
    "        nlpLine = nlp(line)\n",
    "        tokenisedList.append(nlpLine)"
   ],
   "metadata": {
    "collapsed": false,
    "pycharm": {
     "name": "#%%\n"
    }
   }
  },
  {
   "cell_type": "code",
   "execution_count": null,
   "outputs": [],
   "source": [
    "# if you want to keep specific stop words\n",
    "# nlp.Defaults.stop_words.remove()\n",
    "# nlp.vocab['beyond'].is_stop = False"
   ],
   "metadata": {
    "collapsed": false,
    "pycharm": {
     "name": "#%%\n"
    }
   }
  },
  {
   "cell_type": "code",
   "execution_count": 9,
   "outputs": [
    {
     "name": "stderr",
     "output_type": "stream",
     "text": [
      "/Users/balazsszabo/Desktop/VU-IS/Thesis design/Model/venv/lib/python3.6/site-packages/spacy/displacy/__init__.py:200: UserWarning: [W006] No entities to visualize found in Doc object. If this is surprising to you, make sure the Doc was processed using a model that supports named entity recognition, and check the `doc.ents` property manually if necessary.\n",
      "  warnings.warn(Warnings.W006)\n"
     ]
    },
    {
     "data": {
      "text/plain": "<IPython.core.display.HTML object>",
      "text/html": "<span class=\"tex2jax_ignore\"><div class=\"entities\" style=\"line-height: 2.5; direction: ltr\">Afrit \n<mark class=\"entity\" style=\"background: #981231; padding: 0.45em 0.6em; margin: 0 0.25em; line-height: 1; border-radius: 0.35em;\">\n    S101\n    <span style=\"font-size: 0.8em; font-weight: bold; line-height: 1; border-radius: 0.35em; vertical-align: middle; margin-left: 0.5rem\">STREET</span>\n</mark>\n Centrum.</br></div>\n\n<div class=\"entities\" style=\"line-height: 2.5; direction: ltr\">\n<mark class=\"entity\" style=\"background: #aa9cfc; padding: 0.45em 0.6em; margin: 0 0.25em; line-height: 1; border-radius: 0.35em;\">\n    Beneden\n    <span style=\"font-size: 0.8em; font-weight: bold; line-height: 1; border-radius: 0.35em; vertical-align: middle; margin-left: 0.5rem\">PERSON</span>\n</mark>\n links (\n<mark class=\"entity\" style=\"background: #981231; padding: 0.45em 0.6em; margin: 0 0.25em; line-height: 1; border-radius: 0.35em;\">\n    Nieuwe Hemweg\n    <span style=\"font-size: 0.8em; font-weight: bold; line-height: 1; border-radius: 0.35em; vertical-align: middle; margin-left: 0.5rem\">STREET</span>\n</mark>\n)</br></div>\n\n<div class=\"entities\" style=\"line-height: 2.5; direction: ltr\">Aan het einde met de weg mee naar rechts (\n<mark class=\"entity\" style=\"background: #981231; padding: 0.45em 0.6em; margin: 0 0.25em; line-height: 1; border-radius: 0.35em;\">\n    Spaarndammerdijk\n    <span style=\"font-size: 0.8em; font-weight: bold; line-height: 1; border-radius: 0.35em; vertical-align: middle; margin-left: 0.5rem\">STREET</span>\n</mark>\n)</br></div>\n\n<div class=\"entities\" style=\"line-height: 2.5; direction: ltr\">Na tunnel 1ste vkl rechts (\n<mark class=\"entity\" style=\"background: #981231; padding: 0.45em 0.6em; margin: 0 0.25em; line-height: 1; border-radius: 0.35em;\">\n    Houtmankade\n    <span style=\"font-size: 0.8em; font-weight: bold; line-height: 1; border-radius: 0.35em; vertical-align: middle; margin-left: 0.5rem\">STREET</span>\n</mark>\n)</br></div>\n\n<div class=\"entities\" style=\"line-height: 2.5; direction: ltr\">1ste vkl links (Wilmsbrug)</br></div>\n\n<div class=\"entities\" style=\"line-height: 2.5; direction: ltr\">1ste vkl links (\n<mark class=\"entity\" style=\"background: #981231; padding: 0.45em 0.6em; margin: 0 0.25em; line-height: 1; border-radius: 0.35em;\">\n    Haarlemmerplein\n    <span style=\"font-size: 0.8em; font-weight: bold; line-height: 1; border-radius: 0.35em; vertical-align: middle; margin-left: 0.5rem\">STREET</span>\n</mark>\n)</br></div>\n\n<div class=\"entities\" style=\"line-height: 2.5; direction: ltr\">1ste vkl rechts (\n<mark class=\"entity\" style=\"background: #981231; padding: 0.45em 0.6em; margin: 0 0.25em; line-height: 1; border-radius: 0.35em;\">\n    Tussen de bogen\n    <span style=\"font-size: 0.8em; font-weight: bold; line-height: 1; border-radius: 0.35em; vertical-align: middle; margin-left: 0.5rem\">STREET</span>\n</mark>\n)</br></div>\n\n<div class=\"entities\" style=\"line-height: 2.5; direction: ltr\">Over het viaductje 1ste rechts</br></div>\n\n<div class=\"entities\" style=\"line-height: 2.5; direction: ltr\">Direct weer rechts (\n<mark class=\"entity\" style=\"background: #981231; padding: 0.45em 0.6em; margin: 0 0.25em; line-height: 1; border-radius: 0.35em;\">\n    Haarlemmer Houttuinen\n    <span style=\"font-size: 0.8em; font-weight: bold; line-height: 1; border-radius: 0.35em; vertical-align: middle; margin-left: 0.5rem\">STREET</span>\n</mark>\n)</br></div>\n\n<div class=\"entities\" style=\"line-height: 2.5; direction: ltr\">Einde links (\n<mark class=\"entity\" style=\"background: #981231; padding: 0.45em 0.6em; margin: 0 0.25em; line-height: 1; border-radius: 0.35em;\">\n    Korte Prinsengracht\n    <span style=\"font-size: 0.8em; font-weight: bold; line-height: 1; border-radius: 0.35em; vertical-align: middle; margin-left: 0.5rem\">STREET</span>\n</mark>\n)</br></div>\n\n<div class=\"entities\" style=\"line-height: 2.5; direction: ltr\">Rechts over de brug, \n<mark class=\"entity\" style=\"background: #feca74; padding: 0.45em 0.6em; margin: 0 0.25em; line-height: 1; border-radius: 0.35em;\">\n    gelijk\n    <span style=\"font-size: 0.8em; font-weight: bold; line-height: 1; border-radius: 0.35em; vertical-align: middle; margin-left: 0.5rem\">GPE</span>\n</mark>\n links (Korte \n<mark class=\"entity\" style=\"background: #981231; padding: 0.45em 0.6em; margin: 0 0.25em; line-height: 1; border-radius: 0.35em;\">\n    Prinsengracht\n    <span style=\"font-size: 0.8em; font-weight: bold; line-height: 1; border-radius: 0.35em; vertical-align: middle; margin-left: 0.5rem\">STREET</span>\n</mark>\n)</br></div>\n\n<div class=\"entities\" style=\"line-height: 2.5; direction: ltr\">Losplaats \n<mark class=\"entity\" style=\"background: #aa9cfc; padding: 0.45em 0.6em; margin: 0 0.25em; line-height: 1; border-radius: 0.35em;\">\n    Albert Heijn\n    <span style=\"font-size: 0.8em; font-weight: bold; line-height: 1; border-radius: 0.35em; vertical-align: middle; margin-left: 0.5rem\">PERSON</span>\n</mark>\n filiaal rechts</br></div>\n\n<div class=\"entities\" style=\"line-height: 2.5; direction: ltr\">*** LET OP ALLE VIADUCTEN IN DE BUURT VAN HET FILIAAL ZIJN LAGER DAN \n<mark class=\"entity\" style=\"background: #e4e7d2; padding: 0.45em 0.6em; margin: 0 0.25em; line-height: 1; border-radius: 0.35em;\">\n    4\n    <span style=\"font-size: 0.8em; font-weight: bold; line-height: 1; border-radius: 0.35em; vertical-align: middle; margin-left: 0.5rem\">CARDINAL</span>\n</mark>\n METER ***</br></div>\n\n<div class=\"entities\" style=\"line-height: 2.5; direction: ltr\"></br></div>\n\n<div class=\"entities\" style=\"line-height: 2.5; direction: ltr\">\n<mark class=\"entity\" style=\"background: #ff8197; padding: 0.45em 0.6em; margin: 0 0.25em; line-height: 1; border-radius: 0.35em;\">\n    English\n    <span style=\"font-size: 0.8em; font-weight: bold; line-height: 1; border-radius: 0.35em; vertical-align: middle; margin-left: 0.5rem\">LANGUAGE</span>\n</mark>\n:</br></div>\n\n<div class=\"entities\" style=\"line-height: 2.5; direction: ltr\">Note:</br></div>\n\n<div class=\"entities\" style=\"line-height: 2.5; direction: ltr\">Rigid</br></div>\n\n<div class=\"entities\" style=\"line-height: 2.5; direction: ltr\">*** note all overpasses near the branch are lower than \n<mark class=\"entity\" style=\"background: #e4e7d2; padding: 0.45em 0.6em; margin: 0 0.25em; line-height: 1; border-radius: 0.35em;\">\n    4 meter\n    <span style=\"font-size: 0.8em; font-weight: bold; line-height: 1; border-radius: 0.35em; vertical-align: middle; margin-left: 0.5rem\">QUANTITY</span>\n</mark>\n ***</br></div>\n\n<div class=\"entities\" style=\"line-height: 2.5; direction: ltr\"></br></div>\n\n<div class=\"entities\" style=\"line-height: 2.5; direction: ltr\">Travel directions:</br></div>\n\n<div class=\"entities\" style=\"line-height: 2.5; direction: ltr\">\n<mark class=\"entity\" style=\"background: #feca74; padding: 0.45em 0.6em; margin: 0 0.25em; line-height: 1; border-radius: 0.35em;\">\n    Trough\n    <span style=\"font-size: 0.8em; font-weight: bold; line-height: 1; border-radius: 0.35em; vertical-align: middle; margin-left: 0.5rem\">GPE</span>\n</mark>\n \n<mark class=\"entity\" style=\"background: #c887fb; padding: 0.45em 0.6em; margin: 0 0.25em; line-height: 1; border-radius: 0.35em;\">\n    Coentunnel\n    <span style=\"font-size: 0.8em; font-weight: bold; line-height: 1; border-radius: 0.35em; vertical-align: middle; margin-left: 0.5rem\">NORP</span>\n</mark>\n ring \n<mark class=\"entity\" style=\"background: #981231; padding: 0.45em 0.6em; margin: 0 0.25em; line-height: 1; border-radius: 0.35em;\">\n    A10\n    <span style=\"font-size: 0.8em; font-weight: bold; line-height: 1; border-radius: 0.35em; vertical-align: middle; margin-left: 0.5rem\">STREET</span>\n</mark>\n West.</br></div>\n\n<div class=\"entities\" style=\"line-height: 2.5; direction: ltr\">Exit \n<mark class=\"entity\" style=\"background: #981231; padding: 0.45em 0.6em; margin: 0 0.25em; line-height: 1; border-radius: 0.35em;\">\n    S101\n    <span style=\"font-size: 0.8em; font-weight: bold; line-height: 1; border-radius: 0.35em; vertical-align: middle; margin-left: 0.5rem\">STREET</span>\n</mark>\n Centrum</br></div>\n\n<div class=\"entities\" style=\"line-height: 2.5; direction: ltr\">Down left (\n<mark class=\"entity\" style=\"background: #981231; padding: 0.45em 0.6em; margin: 0 0.25em; line-height: 1; border-radius: 0.35em;\">\n    Nieuwe Hemweg\n    <span style=\"font-size: 0.8em; font-weight: bold; line-height: 1; border-radius: 0.35em; vertical-align: middle; margin-left: 0.5rem\">STREET</span>\n</mark>\n)</br></div>\n\n<div class=\"entities\" style=\"line-height: 2.5; direction: ltr\">At the end, follow the road to the right (\n<mark class=\"entity\" style=\"background: #981231; padding: 0.45em 0.6em; margin: 0 0.25em; line-height: 1; border-radius: 0.35em;\">\n    Spaarndammerdijk\n    <span style=\"font-size: 0.8em; font-weight: bold; line-height: 1; border-radius: 0.35em; vertical-align: middle; margin-left: 0.5rem\">STREET</span>\n</mark>\n)</br></div>\n\n<div class=\"entities\" style=\"line-height: 2.5; direction: ltr\">After tunnel 1st traffic light right (\n<mark class=\"entity\" style=\"background: #981231; padding: 0.45em 0.6em; margin: 0 0.25em; line-height: 1; border-radius: 0.35em;\">\n    Houtmankade\n    <span style=\"font-size: 0.8em; font-weight: bold; line-height: 1; border-radius: 0.35em; vertical-align: middle; margin-left: 0.5rem\">STREET</span>\n</mark>\n)</br></div>\n\n<div class=\"entities\" style=\"line-height: 2.5; direction: ltr\">1st traffic light left (Wilmsbrug)</br></div>\n\n<div class=\"entities\" style=\"line-height: 2.5; direction: ltr\">1st traffic light left (\n<mark class=\"entity\" style=\"background: #981231; padding: 0.45em 0.6em; margin: 0 0.25em; line-height: 1; border-radius: 0.35em;\">\n    Haarlemmerplein\n    <span style=\"font-size: 0.8em; font-weight: bold; line-height: 1; border-radius: 0.35em; vertical-align: middle; margin-left: 0.5rem\">STREET</span>\n</mark>\n)</br></div>\n\n<div class=\"entities\" style=\"line-height: 2.5; direction: ltr\">1st traffic light right (\n<mark class=\"entity\" style=\"background: #981231; padding: 0.45em 0.6em; margin: 0 0.25em; line-height: 1; border-radius: 0.35em;\">\n    Tussen de Bogen\n    <span style=\"font-size: 0.8em; font-weight: bold; line-height: 1; border-radius: 0.35em; vertical-align: middle; margin-left: 0.5rem\">STREET</span>\n</mark>\n)</br></div>\n\n<div class=\"entities\" style=\"line-height: 2.5; direction: ltr\">1st right over the viaduct</br></div>\n\n<div class=\"entities\" style=\"line-height: 2.5; direction: ltr\">Immediately right again (\n<mark class=\"entity\" style=\"background: #981231; padding: 0.45em 0.6em; margin: 0 0.25em; line-height: 1; border-radius: 0.35em;\">\n    Haarlemmer Houttuinen\n    <span style=\"font-size: 0.8em; font-weight: bold; line-height: 1; border-radius: 0.35em; vertical-align: middle; margin-left: 0.5rem\">STREET</span>\n</mark>\n)</br></div>\n\n<div class=\"entities\" style=\"line-height: 2.5; direction: ltr\">End left (\n<mark class=\"entity\" style=\"background: #981231; padding: 0.45em 0.6em; margin: 0 0.25em; line-height: 1; border-radius: 0.35em;\">\n    Korte Prinsengracht\n    <span style=\"font-size: 0.8em; font-weight: bold; line-height: 1; border-radius: 0.35em; vertical-align: middle; margin-left: 0.5rem\">STREET</span>\n</mark>\n)</br></div>\n\n<div class=\"entities\" style=\"line-height: 2.5; direction: ltr\">Right over the bridge, immediately left (Korte \n<mark class=\"entity\" style=\"background: #981231; padding: 0.45em 0.6em; margin: 0 0.25em; line-height: 1; border-radius: 0.35em;\">\n    Prinsengracht\n    <span style=\"font-size: 0.8em; font-weight: bold; line-height: 1; border-radius: 0.35em; vertical-align: middle; margin-left: 0.5rem\">STREET</span>\n</mark>\n)</br></div>\n\n<div class=\"entities\" style=\"line-height: 2.5; direction: ltr\">Unloading place \n<mark class=\"entity\" style=\"background: #aa9cfc; padding: 0.45em 0.6em; margin: 0 0.25em; line-height: 1; border-radius: 0.35em;\">\n    Albert Heijn\n    <span style=\"font-size: 0.8em; font-weight: bold; line-height: 1; border-radius: 0.35em; vertical-align: middle; margin-left: 0.5rem\">PERSON</span>\n</mark>\n branch on the right</br></div>\n\n<div class=\"entities\" style=\"line-height: 2.5; direction: ltr\"></br></div>\n\n<div class=\"entities\" style=\"line-height: 2.5; direction: ltr\">*** PLEASE NOTE ALL VIADUCTS NEAR THE SHOP ARE LOWER THAN 4 METERS ***</br></div>\n\n<div class=\"entities\" style=\"line-height: 2.5; direction: ltr\">Unloading place:</br></div>\n\n<div class=\"entities\" style=\"line-height: 2.5; direction: ltr\">Load right at \n<mark class=\"entity\" style=\"background: #e4e7d2; padding: 0.45em 0.6em; margin: 0 0.25em; line-height: 1; border-radius: 0.35em;\">\n    2\n    <span style=\"font-size: 0.8em; font-weight: bold; line-height: 1; border-radius: 0.35em; vertical-align: middle; margin-left: 0.5rem\">CARDINAL</span>\n</mark>\n shops</br></div>\n\n<div class=\"entities\" style=\"line-height: 2.5; direction: ltr\"></br></div>\n\n<div class=\"entities\" style=\"line-height: 2.5; direction: ltr\">Drive away:</br></div>\n\n<div class=\"entities\" style=\"line-height: 2.5; direction: ltr\">With the help of a shop employee.</br></div>\n\n<div class=\"entities\" style=\"line-height: 2.5; direction: ltr\">right back on busy street,</br></div>\n\n<div class=\"entities\" style=\"line-height: 2.5; direction: ltr\">you are then right on the priority road and can drive away immediately.</br></div>\n\n<div class=\"entities\" style=\"line-height: 2.5; direction: ltr\">same way back.</div>\n\n<div class=\"entities\" style=\"line-height: 2.5; direction: ltr\"></div></span>"
     },
     "metadata": {},
     "output_type": "display_data"
    }
   ],
   "source": [
    "colors = {\"STREET\": '#981231'}\n",
    "options={'distance':50,'colors': colors}\n",
    "displacy.render(tokenisedList, style='ent',options=options, jupyter=True)\n",
    "#displacy.serve(tokenisedList, style='ent', options=options )"
   ],
   "metadata": {
    "collapsed": false,
    "pycharm": {
     "name": "#%%\n"
    }
   }
  },
  {
   "cell_type": "code",
   "execution_count": null,
   "outputs": [],
   "source": [],
   "metadata": {
    "collapsed": false,
    "pycharm": {
     "name": "#%%\n"
    }
   }
  }
 ],
 "metadata": {
  "kernelspec": {
   "display_name": "Python 3",
   "language": "python",
   "name": "python3"
  },
  "language_info": {
   "codemirror_mode": {
    "name": "ipython",
    "version": 2
   },
   "file_extension": ".py",
   "mimetype": "text/x-python",
   "name": "python",
   "nbconvert_exporter": "python",
   "pygments_lexer": "ipython2",
   "version": "2.7.6"
  }
 },
 "nbformat": 4,
 "nbformat_minor": 0
}