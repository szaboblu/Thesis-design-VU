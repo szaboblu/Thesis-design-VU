{
 "cells": [
  {
   "cell_type": "code",
   "execution_count": 3,
   "outputs": [],
   "source": [
    "import errno\n",
    "\n",
    "import spacy\n",
    "from spacy.language import Language\n",
    "from spacy import displacy\n",
    "from spacy.tokens import Span\n",
    "from spacy.matcher import PhraseMatcher\n",
    "from spacy.matcher import Matcher\n",
    "from spacy_wordnet.wordnet_annotator import WordnetAnnotator\n",
    "import re\n",
    "import sys\n",
    "import pickle"
   ],
   "metadata": {
    "collapsed": false,
    "pycharm": {
     "name": "#%%\n"
    }
   }
  },
  {
   "cell_type": "code",
   "execution_count": 2,
   "outputs": [],
   "source": [
    "@Language.factory('make_street_entity_matcher')\n",
    "def make_street_entity_matcher(nlp, name, entity_name:str, file_name:str, pattern=None):\n",
    "    return EntityMatcher(nlp, file_name, entity_name, pattern)"
   ],
   "metadata": {
    "collapsed": false,
    "pycharm": {
     "name": "#%%\n"
    }
   }
  },
  {
   "cell_type": "code",
   "execution_count": 3,
   "outputs": [],
   "source": [
    "@Language.factory('make_city_entity_matcher')\n",
    "def make_city_entity_matcher(nlp, name,entity_name:str, file_name=None, pattern=None):\n",
    "    return EntityMatcher(nlp, file_name, entity_name, pattern)"
   ],
   "metadata": {
    "collapsed": false,
    "pycharm": {
     "name": "#%%\n"
    }
   }
  },
  {
   "cell_type": "code",
   "execution_count": 4,
   "outputs": [],
   "source": [
    "@Language.factory('make_landmark_entity_matcher')\n",
    "def make_directions_entity_matcher(nlp, name,entity_name:str, file_name=None, pattern=None):\n",
    "    return EntityMatcher(nlp, file_name, entity_name, pattern)"
   ],
   "metadata": {
    "collapsed": false,
    "pycharm": {
     "name": "#%%\n"
    }
   }
  },
  {
   "cell_type": "code",
   "execution_count": 5,
   "outputs": [],
   "source": [
    "@Language.factory('make_directions_entity_matcher')\n",
    "def make_directions_entity_matcher(nlp, name,entity_name:str, file_name=None, pattern=None):\n",
    "    return EntityMatcher(nlp, file_name, entity_name, pattern)"
   ],
   "metadata": {
    "collapsed": false,
    "pycharm": {
     "name": "#%%\n"
    }
   }
  },
  {
   "cell_type": "code",
   "execution_count": 6,
   "outputs": [],
   "source": [
    "@Language.factory('make_neighbourhood_entity_matcher')\n",
    "def make_neighbourhood_entity_matcher(nlp, name,entity_name:str, file_name=None, pattern=None):\n",
    "    return EntityMatcher(nlp, file_name, entity_name, pattern)"
   ],
   "metadata": {
    "collapsed": false,
    "pycharm": {
     "name": "#%%\n"
    }
   }
  },
  {
   "cell_type": "code",
   "execution_count": 7,
   "outputs": [],
   "source": [
    "@Language.factory('make_ordinals_entity_matcher')\n",
    "def make_ordinals_entity_matcher(nlp, name,entity_name:str, file_name=None, pattern=None):\n",
    "    return EntityMatcher(nlp, file_name, entity_name, pattern)"
   ],
   "metadata": {
    "collapsed": false,
    "pycharm": {
     "name": "#%%\n"
    }
   }
  },
  {
   "cell_type": "code",
   "execution_count": 8,
   "outputs": [],
   "source": [
    "@Language.factory('make_organisation_entity_matcher')\n",
    "def make_organisation_entity_matcher(nlp, name, entity_name:str, file_name=None, pattern=None):\n",
    "    return EntityMatcher(nlp, file_name, entity_name, pattern)"
   ],
   "metadata": {
    "collapsed": false,
    "pycharm": {
     "name": "#%%\n"
    }
   }
  },
  {
   "cell_type": "code",
   "execution_count": 9,
   "outputs": [],
   "source": [
    "class EntityMatcher:\n",
    "    def __init__(self, nlp, file_name, entity_name, pattern):\n",
    "        if file_name:\n",
    "            try:\n",
    "                line_list = open(file_name,'r').readlines()\n",
    "\n",
    "            except IOError as ex:\n",
    "                if ex.errno != errno.ENOENT:\n",
    "                    raise\n",
    "            else:\n",
    "                phrase_list = []\n",
    "                for l in line_list:\n",
    "                    phrase_list.append(l.strip())\n",
    "                phrase_patterns = [nlp(text) for text in phrase_list]\n",
    "                self.phrase_matcher = PhraseMatcher(nlp.vocab, attr=\"LOWER\")\n",
    "                self.phrase_matcher.add(entity_name, None, *phrase_patterns )\n",
    "        if pattern:\n",
    "            self.matcher = Matcher(nlp.vocab)\n",
    "            self.matcher.add(entity_name, pattern )\n",
    "\n",
    "    def __call__(self, doc):\n",
    "        matches = set()\n",
    "        if hasattr(self, \"matcher\"):\n",
    "            matches.update(self.matcher(doc))\n",
    "        if hasattr(self, \"phrase_matcher\"):\n",
    "            matches.update(self.phrase_matcher(doc))\n",
    "        seen_tokens = set()\n",
    "        \n",
    "        new_entities = []\n",
    "        entities = doc.ents\n",
    "        for match_id, start, end in matches:\n",
    "            if start not in seen_tokens and end - 1 not in seen_tokens:\n",
    "                new_entities.append(Span(doc, start, end, label=match_id))\n",
    "                entities = [\n",
    "                    e for e in entities if not (e.start < end and e.end > start)\n",
    "                ]\n",
    "                seen_tokens.update(range(start, end))\n",
    "\n",
    "        doc.ents = tuple(entities) + tuple(new_entities)\n",
    "        return doc"
   ],
   "metadata": {
    "collapsed": false,
    "pycharm": {
     "name": "#%%\n"
    }
   }
  },
  {
   "cell_type": "code",
   "execution_count": 10,
   "outputs": [],
   "source": [
    "def regex_part_of_string(filename):\n",
    "    try:\n",
    "        line_list = open(filename,'r').readlines()\n",
    "    except IOError as ex:\n",
    "        if ex.errno != errno.ENOENT:\n",
    "            raise\n",
    "    else:\n",
    "        phrase_list = '('\n",
    "        for l in line_list:\n",
    "            if phrase_list == '(':\n",
    "                phrase_list += f'{l.strip()})'\n",
    "            else:\n",
    "                phrase_list += f'|({l.strip()})'\n",
    "        return f\"(\\w*({phrase_list})\\w*)\""
   ],
   "metadata": {
    "collapsed": false,
    "pycharm": {
     "name": "#%%\n"
    }
   }
  },
  {
   "cell_type": "code",
   "execution_count": 11,
   "outputs": [],
   "source": [
    "labels={'street':\"STREET\",\n",
    "        'city':\"CITY\",\n",
    "        'landmark':\"LANDMARK\",\n",
    "        'neighbourhood':\"NEIGHBOURHOOD\",\n",
    "        'ordinals':\"ORDINALS\",\n",
    "        'organisation':\"ORGANISATION\",\n",
    "        'direction':\"DIRECTION\"}"
   ],
   "metadata": {
    "collapsed": false,
    "pycharm": {
     "name": "#%%\n"
    }
   }
  },
  {
   "cell_type": "code",
   "execution_count": 12,
   "outputs": [],
   "source": [
    "nlp = spacy.load(\"en_core_web_sm\")\n",
    "matcher = Matcher(nlp.vocab)"
   ],
   "metadata": {
    "collapsed": false,
    "pycharm": {
     "name": "#%%\n"
    }
   }
  },
  {
   "cell_type": "code",
   "execution_count": 13,
   "outputs": [
    {
     "data": {
      "text/plain": "<__main__.EntityMatcher at 0x120374f40>"
     },
     "execution_count": 13,
     "metadata": {},
     "output_type": "execute_result"
    }
   ],
   "source": [
    "\n",
    "filename_dutch_streets_types = '../../Data/street_types_dutch.txt'\n",
    "street_regex = regex_part_of_string(filename_dutch_streets_types)\n",
    "regex =[[{\"TEXT\": {\"REGEX\": \"^[A-Z][0-9]{1,5}.*\"}}],[{\"TEXT\": {\"REGEX\": street_regex}}]]\n",
    "filename_street = '../../Data/street_names_north_holland.txt'\n",
    "nlp.add_pipe(\"make_street_entity_matcher\", config={\"file_name\":filename_street,\"entity_name\": labels['street'], \"pattern\": regex}, after=\"ner\")"
   ],
   "metadata": {
    "collapsed": false,
    "pycharm": {
     "name": "#%%\n"
    }
   }
  },
  {
   "cell_type": "code",
   "execution_count": 14,
   "outputs": [
    {
     "data": {
      "text/plain": "<__main__.EntityMatcher at 0x120086af0>"
     },
     "execution_count": 14,
     "metadata": {},
     "output_type": "execute_result"
    }
   ],
   "source": [
    "filename_city = '../../Data/cities.txt'\n",
    "nlp.add_pipe(\"make_city_entity_matcher\", config={ \"file_name\": filename_city, \"entity_name\": labels['city']}, after=\"ner\")"
   ],
   "metadata": {
    "collapsed": false,
    "pycharm": {
     "name": "#%%\n"
    }
   }
  },
  {
   "cell_type": "code",
   "execution_count": 15,
   "outputs": [
    {
     "data": {
      "text/plain": "<__main__.EntityMatcher at 0x1202eab80>"
     },
     "execution_count": 15,
     "metadata": {},
     "output_type": "execute_result"
    }
   ],
   "source": [
    "filename_dutch_landmark_types = '../../Data/landmark_types_dutch.txt'\n",
    "landmark_regex = regex_part_of_string(filename_dutch_landmark_types)\n",
    "regex =[[{\"TEXT\": {\"REGEX\": landmark_regex}}]]\n",
    "filename_landmarks = '../../Data/landmarks.txt'\n",
    "nlp.add_pipe(\"make_landmark_entity_matcher\", config={ \"file_name\": filename_landmarks, \"entity_name\": labels['landmark'], \"pattern\": regex }, after=\"ner\")\n"
   ],
   "metadata": {
    "collapsed": false,
    "pycharm": {
     "name": "#%%\n"
    }
   }
  },
  {
   "cell_type": "code",
   "execution_count": 16,
   "outputs": [
    {
     "data": {
      "text/plain": "<__main__.EntityMatcher at 0x1202dd310>"
     },
     "execution_count": 16,
     "metadata": {},
     "output_type": "execute_result"
    }
   ],
   "source": [
    "filename_landmarks = '../../Data/neighbourhoods_amsterdam.txt'\n",
    "nlp.add_pipe(\"make_neighbourhood_entity_matcher\", config={ \"file_name\": filename_landmarks, \"entity_name\": labels['neighbourhood'],}, after=\"ner\")\n"
   ],
   "metadata": {
    "collapsed": false,
    "pycharm": {
     "name": "#%%\n"
    }
   }
  },
  {
   "cell_type": "code",
   "execution_count": 17,
   "outputs": [
    {
     "data": {
      "text/plain": "<__main__.EntityMatcher at 0x121466d00>"
     },
     "execution_count": 17,
     "metadata": {},
     "output_type": "execute_result"
    }
   ],
   "source": [
    "filename_landmarks = '../../Data/ordinals.txt'\n",
    "nlp.add_pipe(\"make_ordinals_entity_matcher\", config={ \"file_name\": filename_landmarks, \"entity_name\": labels['ordinals'],}, after=\"ner\")"
   ],
   "metadata": {
    "collapsed": false,
    "pycharm": {
     "name": "#%%\n"
    }
   }
  },
  {
   "cell_type": "code",
   "execution_count": 18,
   "outputs": [
    {
     "data": {
      "text/plain": "<__main__.EntityMatcher at 0x121466a30>"
     },
     "execution_count": 18,
     "metadata": {},
     "output_type": "execute_result"
    }
   ],
   "source": [
    "filename_landmarks = '../../Data/organisations.txt'\n",
    "nlp.add_pipe(\"make_organisation_entity_matcher\", config={ \"file_name\": filename_landmarks, \"entity_name\": labels['organisation'],}, after=\"ner\")\n"
   ],
   "metadata": {
    "collapsed": false,
    "pycharm": {
     "name": "#%%\n"
    }
   }
  },
  {
   "cell_type": "code",
   "execution_count": 19,
   "outputs": [
    {
     "data": {
      "text/plain": "<__main__.EntityMatcher at 0x12151a190>"
     },
     "execution_count": 19,
     "metadata": {},
     "output_type": "execute_result"
    }
   ],
   "source": [
    "directions =[[{\"LOWER\": 'left'}], [{\"LOWER\": 'right'}], [{\"LOWER\": 'straight'}]]\n",
    "nlp.add_pipe(\"make_directions_entity_matcher\", config={\"entity_name\": labels['direction'], \"pattern\": directions}, after=\"ner\")"
   ],
   "metadata": {
    "collapsed": false,
    "pycharm": {
     "name": "#%%\n"
    }
   }
  },
  {
   "cell_type": "code",
   "execution_count": 20,
   "outputs": [],
   "source": [
    "def getAddressFromFileName(filename):\n",
    "    return filename.split(\"/\")[-1].split(\".\",1)[0]"
   ],
   "metadata": {
    "collapsed": false,
    "pycharm": {
     "name": "#%%\n"
    }
   }
  },
  {
   "cell_type": "code",
   "execution_count": 21,
   "outputs": [],
   "source": [
    "class DirectionInstruction:\n",
    "    def __init__(self, text):\n",
    "        self.text=text\n",
    "        self.data={}\n",
    "    def extend(self,label='null', value='null'):\n",
    "        self.data[label] = value\n",
    "\n",
    "    def getDestination(self):\n",
    "        if"
   ],
   "metadata": {
    "collapsed": false,
    "pycharm": {
     "name": "#%%\n"
    }
   }
  },
  {
   "cell_type": "code",
   "execution_count": 22,
   "outputs": [],
   "source": [
    "class RouteDescription:\n",
    "    def __init__(self, destination):\n",
    "        #self.origin = origin\n",
    "        self.destination = destination\n",
    "        self.steps = []\n",
    "\n",
    "    def addStep(self, directionInstruction):\n",
    "        self.steps.append(directionInstruction)\n"
   ],
   "metadata": {
    "collapsed": false,
    "pycharm": {
     "name": "#%%\n"
    }
   }
  },
  {
   "cell_type": "code",
   "execution_count": 23,
   "outputs": [],
   "source": [
    "def display_ent(tokenisedList):\n",
    "    colors = {labels['street']: '#28821e',\n",
    "              labels['direction']: '#33DCFF',\n",
    "              labels['city']:'#742318',\n",
    "              labels['landmark']:'#ba03fc',\n",
    "              labels['neighbourhood']:'#1212cc',\n",
    "              labels['ordinals']:'#cc1212'}\n",
    "    options={'distance':50,'colors': colors}\n",
    "    displacy.render(tokenisedList, style='ent',options=options, jupyter=True)\n",
    "    #displacy.render(tokenisedList, style=\"dep\")"
   ],
   "metadata": {
    "collapsed": false,
    "pycharm": {
     "name": "#%%\n"
    }
   }
  },
  {
   "cell_type": "code",
   "execution_count": 52,
   "outputs": [],
   "source": [
    "def ordinal_to_num(text):\n",
    "    if re.search(r'([0-9])(?=st|nd|rd|th)', text):\n",
    "        return int(re.search(r'([0-9])(?=st|nd|rd|th)', text).group())\n",
    "    if text in ['first','next','immediately','Immediately','then']:\n",
    "        return 1\n",
    "    if text in ['second']:\n",
    "        return 2\n",
    "    if text in ['third']:\n",
    "        return 3\n",
    "    if text in ['fourth']:\n",
    "        return 4\n",
    "    if text in ['last']:\n",
    "        return -1\n",
    "    if text in ['before']:\n",
    "        return 99\n",
    "    if text in ['after']:\n",
    "        return 101\n",
    "    if text in ['over', 'through', 'trough']:\n",
    "        return 0\n",
    "    else:\n",
    "        return text"
   ],
   "metadata": {
    "collapsed": false,
    "pycharm": {
     "name": "#%%\n"
    }
   }
  },
  {
   "cell_type": "code",
   "execution_count": 1,
   "outputs": [],
   "source": [
    "def read_route(filename):\n",
    "    tokenisedList = []\n",
    "    address = getAddressFromFileName(filename)\n",
    "    route= RouteDescription(destination=address)\n",
    "\n",
    "    with open(filename,'r') as f:\n",
    "        line = f.readline()\n",
    "        is_travel_direction = False\n",
    "        while line:\n",
    "            line = f.readline()\n",
    "            nlpLine = nlp(line)\n",
    "            pattern = [{\"LOWER\": \"directions\"}]\n",
    "            matcher.add(\"BEGIN\", [pattern])\n",
    "            matches = matcher(nlpLine)\n",
    "\n",
    "            if line == '\\n':\n",
    "                is_travel_direction = False\n",
    "            if is_travel_direction:\n",
    "                tokenisedList.append(nlpLine)\n",
    "                instruction = DirectionInstruction(line)\n",
    "                if(nlpLine.ents):\n",
    "                    for entity in nlpLine.ents:\n",
    "                        for label in labels:\n",
    "                            if(labels[label] == entity.label_):\n",
    "                                instruction.extend(label,ordinal_to_num(entity.text))\n",
    "                    route.addStep(instruction)\n",
    "            for match_id, _, _ in matches:\n",
    "                string_id = nlp.vocab.strings[match_id]\n",
    "                if string_id == 'BEGIN':\n",
    "                    is_travel_direction = True\n",
    "    display_ent(tokenisedList)\n",
    "    with open(f'../../Data/Routes/{address}.pickle', 'wb') as pickleFile:\n",
    "        pickle.dump(route, pickleFile)\n",
    "    return route\n"
   ],
   "metadata": {
    "collapsed": false,
    "pycharm": {
     "name": "#%%\n"
    }
   }
  },
  {
   "cell_type": "code",
   "execution_count": 26,
   "outputs": [
    {
     "name": "stdout",
     "output_type": "stream",
     "text": [
      "__name__ ['/Users/balazs/Desktop/Thesis/venv/lib/python3.8/site-packages/ipykernel_launcher.py', '-f', '/Users/balazs/Library/Jupyter/runtime/kernel-d9511c0f-f1d7-4349-a7c8-067c42cc7757.json']\n"
     ]
    },
    {
     "data": {
      "text/plain": "<IPython.core.display.HTML object>",
      "text/html": "<span class=\"tex2jax_ignore\"><div class=\"entities\" style=\"line-height: 2.5; direction: ltr\">\n<mark class=\"entity\" style=\"background: #cc1212; padding: 0.45em 0.6em; margin: 0 0.25em; line-height: 1; border-radius: 0.35em;\">\n    Trough\n    <span style=\"font-size: 0.8em; font-weight: bold; line-height: 1; border-radius: 0.35em; vertical-align: middle; margin-left: 0.5rem\">ORDINALS</span>\n</mark>\n \n<mark class=\"entity\" style=\"background: #ba03fc; padding: 0.45em 0.6em; margin: 0 0.25em; line-height: 1; border-radius: 0.35em;\">\n    Coentunnel\n    <span style=\"font-size: 0.8em; font-weight: bold; line-height: 1; border-radius: 0.35em; vertical-align: middle; margin-left: 0.5rem\">LANDMARK</span>\n</mark>\n ring \n<mark class=\"entity\" style=\"background: #28821e; padding: 0.45em 0.6em; margin: 0 0.25em; line-height: 1; border-radius: 0.35em;\">\n    A10\n    <span style=\"font-size: 0.8em; font-weight: bold; line-height: 1; border-radius: 0.35em; vertical-align: middle; margin-left: 0.5rem\">STREET</span>\n</mark>\n \n<mark class=\"entity\" style=\"background: #1212cc; padding: 0.45em 0.6em; margin: 0 0.25em; line-height: 1; border-radius: 0.35em;\">\n    West\n    <span style=\"font-size: 0.8em; font-weight: bold; line-height: 1; border-radius: 0.35em; vertical-align: middle; margin-left: 0.5rem\">NEIGHBOURHOOD</span>\n</mark>\n.</br></div>\n\n<div class=\"entities\" style=\"line-height: 2.5; direction: ltr\">Exit \n<mark class=\"entity\" style=\"background: #28821e; padding: 0.45em 0.6em; margin: 0 0.25em; line-height: 1; border-radius: 0.35em;\">\n    S101\n    <span style=\"font-size: 0.8em; font-weight: bold; line-height: 1; border-radius: 0.35em; vertical-align: middle; margin-left: 0.5rem\">STREET</span>\n</mark>\n \n<mark class=\"entity\" style=\"background: #1212cc; padding: 0.45em 0.6em; margin: 0 0.25em; line-height: 1; border-radius: 0.35em;\">\n    Centrum\n    <span style=\"font-size: 0.8em; font-weight: bold; line-height: 1; border-radius: 0.35em; vertical-align: middle; margin-left: 0.5rem\">NEIGHBOURHOOD</span>\n</mark>\n</br></div>\n\n<div class=\"entities\" style=\"line-height: 2.5; direction: ltr\">Down \n<mark class=\"entity\" style=\"background: #33DCFF; padding: 0.45em 0.6em; margin: 0 0.25em; line-height: 1; border-radius: 0.35em;\">\n    left\n    <span style=\"font-size: 0.8em; font-weight: bold; line-height: 1; border-radius: 0.35em; vertical-align: middle; margin-left: 0.5rem\">DIRECTION</span>\n</mark>\n (Nieuwe \n<mark class=\"entity\" style=\"background: #28821e; padding: 0.45em 0.6em; margin: 0 0.25em; line-height: 1; border-radius: 0.35em;\">\n    Hemweg\n    <span style=\"font-size: 0.8em; font-weight: bold; line-height: 1; border-radius: 0.35em; vertical-align: middle; margin-left: 0.5rem\">STREET</span>\n</mark>\n)</br></div>\n\n<div class=\"entities\" style=\"line-height: 2.5; direction: ltr\">follow the \n<mark class=\"entity\" style=\"background: #ba03fc; padding: 0.45em 0.6em; margin: 0 0.25em; line-height: 1; border-radius: 0.35em;\">\n    road\n    <span style=\"font-size: 0.8em; font-weight: bold; line-height: 1; border-radius: 0.35em; vertical-align: middle; margin-left: 0.5rem\">LANDMARK</span>\n</mark>\n to the \n<mark class=\"entity\" style=\"background: #33DCFF; padding: 0.45em 0.6em; margin: 0 0.25em; line-height: 1; border-radius: 0.35em;\">\n    right\n    <span style=\"font-size: 0.8em; font-weight: bold; line-height: 1; border-radius: 0.35em; vertical-align: middle; margin-left: 0.5rem\">DIRECTION</span>\n</mark>\n (\n<mark class=\"entity\" style=\"background: #28821e; padding: 0.45em 0.6em; margin: 0 0.25em; line-height: 1; border-radius: 0.35em;\">\n    Spaarndammerdijk\n    <span style=\"font-size: 0.8em; font-weight: bold; line-height: 1; border-radius: 0.35em; vertical-align: middle; margin-left: 0.5rem\">STREET</span>\n</mark>\n)</br></div>\n\n<div class=\"entities\" style=\"line-height: 2.5; direction: ltr\">\n<mark class=\"entity\" style=\"background: #cc1212; padding: 0.45em 0.6em; margin: 0 0.25em; line-height: 1; border-radius: 0.35em;\">\n    1st\n    <span style=\"font-size: 0.8em; font-weight: bold; line-height: 1; border-radius: 0.35em; vertical-align: middle; margin-left: 0.5rem\">ORDINALS</span>\n</mark>\n \n<mark class=\"entity\" style=\"background: #ba03fc; padding: 0.45em 0.6em; margin: 0 0.25em; line-height: 1; border-radius: 0.35em;\">\n    traffic light\n    <span style=\"font-size: 0.8em; font-weight: bold; line-height: 1; border-radius: 0.35em; vertical-align: middle; margin-left: 0.5rem\">LANDMARK</span>\n</mark>\n \n<mark class=\"entity\" style=\"background: #33DCFF; padding: 0.45em 0.6em; margin: 0 0.25em; line-height: 1; border-radius: 0.35em;\">\n    right\n    <span style=\"font-size: 0.8em; font-weight: bold; line-height: 1; border-radius: 0.35em; vertical-align: middle; margin-left: 0.5rem\">DIRECTION</span>\n</mark>\n (\n<mark class=\"entity\" style=\"background: #28821e; padding: 0.45em 0.6em; margin: 0 0.25em; line-height: 1; border-radius: 0.35em;\">\n    Houtmankade\n    <span style=\"font-size: 0.8em; font-weight: bold; line-height: 1; border-radius: 0.35em; vertical-align: middle; margin-left: 0.5rem\">STREET</span>\n</mark>\n)</br></div>\n\n<div class=\"entities\" style=\"line-height: 2.5; direction: ltr\">\n<mark class=\"entity\" style=\"background: #cc1212; padding: 0.45em 0.6em; margin: 0 0.25em; line-height: 1; border-radius: 0.35em;\">\n    1st\n    <span style=\"font-size: 0.8em; font-weight: bold; line-height: 1; border-radius: 0.35em; vertical-align: middle; margin-left: 0.5rem\">ORDINALS</span>\n</mark>\n \n<mark class=\"entity\" style=\"background: #ba03fc; padding: 0.45em 0.6em; margin: 0 0.25em; line-height: 1; border-radius: 0.35em;\">\n    traffic light\n    <span style=\"font-size: 0.8em; font-weight: bold; line-height: 1; border-radius: 0.35em; vertical-align: middle; margin-left: 0.5rem\">LANDMARK</span>\n</mark>\n \n<mark class=\"entity\" style=\"background: #33DCFF; padding: 0.45em 0.6em; margin: 0 0.25em; line-height: 1; border-radius: 0.35em;\">\n    left\n    <span style=\"font-size: 0.8em; font-weight: bold; line-height: 1; border-radius: 0.35em; vertical-align: middle; margin-left: 0.5rem\">DIRECTION</span>\n</mark>\n (\n<mark class=\"entity\" style=\"background: #ba03fc; padding: 0.45em 0.6em; margin: 0 0.25em; line-height: 1; border-radius: 0.35em;\">\n    Wilmsbrug\n    <span style=\"font-size: 0.8em; font-weight: bold; line-height: 1; border-radius: 0.35em; vertical-align: middle; margin-left: 0.5rem\">LANDMARK</span>\n</mark>\n)</br></div>\n\n<div class=\"entities\" style=\"line-height: 2.5; direction: ltr\">\n<mark class=\"entity\" style=\"background: #cc1212; padding: 0.45em 0.6em; margin: 0 0.25em; line-height: 1; border-radius: 0.35em;\">\n    1st\n    <span style=\"font-size: 0.8em; font-weight: bold; line-height: 1; border-radius: 0.35em; vertical-align: middle; margin-left: 0.5rem\">ORDINALS</span>\n</mark>\n \n<mark class=\"entity\" style=\"background: #ba03fc; padding: 0.45em 0.6em; margin: 0 0.25em; line-height: 1; border-radius: 0.35em;\">\n    traffic light\n    <span style=\"font-size: 0.8em; font-weight: bold; line-height: 1; border-radius: 0.35em; vertical-align: middle; margin-left: 0.5rem\">LANDMARK</span>\n</mark>\n \n<mark class=\"entity\" style=\"background: #33DCFF; padding: 0.45em 0.6em; margin: 0 0.25em; line-height: 1; border-radius: 0.35em;\">\n    left\n    <span style=\"font-size: 0.8em; font-weight: bold; line-height: 1; border-radius: 0.35em; vertical-align: middle; margin-left: 0.5rem\">DIRECTION</span>\n</mark>\n (\n<mark class=\"entity\" style=\"background: #28821e; padding: 0.45em 0.6em; margin: 0 0.25em; line-height: 1; border-radius: 0.35em;\">\n    Haarlemmerplein\n    <span style=\"font-size: 0.8em; font-weight: bold; line-height: 1; border-radius: 0.35em; vertical-align: middle; margin-left: 0.5rem\">STREET</span>\n</mark>\n)</br></div>\n\n<div class=\"entities\" style=\"line-height: 2.5; direction: ltr\">\n<mark class=\"entity\" style=\"background: #cc1212; padding: 0.45em 0.6em; margin: 0 0.25em; line-height: 1; border-radius: 0.35em;\">\n    1st\n    <span style=\"font-size: 0.8em; font-weight: bold; line-height: 1; border-radius: 0.35em; vertical-align: middle; margin-left: 0.5rem\">ORDINALS</span>\n</mark>\n \n<mark class=\"entity\" style=\"background: #ba03fc; padding: 0.45em 0.6em; margin: 0 0.25em; line-height: 1; border-radius: 0.35em;\">\n    traffic light\n    <span style=\"font-size: 0.8em; font-weight: bold; line-height: 1; border-radius: 0.35em; vertical-align: middle; margin-left: 0.5rem\">LANDMARK</span>\n</mark>\n \n<mark class=\"entity\" style=\"background: #33DCFF; padding: 0.45em 0.6em; margin: 0 0.25em; line-height: 1; border-radius: 0.35em;\">\n    right\n    <span style=\"font-size: 0.8em; font-weight: bold; line-height: 1; border-radius: 0.35em; vertical-align: middle; margin-left: 0.5rem\">DIRECTION</span>\n</mark>\n (\n<mark class=\"entity\" style=\"background: #28821e; padding: 0.45em 0.6em; margin: 0 0.25em; line-height: 1; border-radius: 0.35em;\">\n    Tussen de Bogen\n    <span style=\"font-size: 0.8em; font-weight: bold; line-height: 1; border-radius: 0.35em; vertical-align: middle; margin-left: 0.5rem\">STREET</span>\n</mark>\n)</br></div>\n\n<div class=\"entities\" style=\"line-height: 2.5; direction: ltr\">\n<mark class=\"entity\" style=\"background: #cc1212; padding: 0.45em 0.6em; margin: 0 0.25em; line-height: 1; border-radius: 0.35em;\">\n    1st\n    <span style=\"font-size: 0.8em; font-weight: bold; line-height: 1; border-radius: 0.35em; vertical-align: middle; margin-left: 0.5rem\">ORDINALS</span>\n</mark>\n \n<mark class=\"entity\" style=\"background: #33DCFF; padding: 0.45em 0.6em; margin: 0 0.25em; line-height: 1; border-radius: 0.35em;\">\n    right\n    <span style=\"font-size: 0.8em; font-weight: bold; line-height: 1; border-radius: 0.35em; vertical-align: middle; margin-left: 0.5rem\">DIRECTION</span>\n</mark>\n \n<mark class=\"entity\" style=\"background: #cc1212; padding: 0.45em 0.6em; margin: 0 0.25em; line-height: 1; border-radius: 0.35em;\">\n    over\n    <span style=\"font-size: 0.8em; font-weight: bold; line-height: 1; border-radius: 0.35em; vertical-align: middle; margin-left: 0.5rem\">ORDINALS</span>\n</mark>\n the \n<mark class=\"entity\" style=\"background: #ba03fc; padding: 0.45em 0.6em; margin: 0 0.25em; line-height: 1; border-radius: 0.35em;\">\n    viaduct\n    <span style=\"font-size: 0.8em; font-weight: bold; line-height: 1; border-radius: 0.35em; vertical-align: middle; margin-left: 0.5rem\">LANDMARK</span>\n</mark>\n</br></div>\n\n<div class=\"entities\" style=\"line-height: 2.5; direction: ltr\">\n<mark class=\"entity\" style=\"background: #cc1212; padding: 0.45em 0.6em; margin: 0 0.25em; line-height: 1; border-radius: 0.35em;\">\n    Immediately\n    <span style=\"font-size: 0.8em; font-weight: bold; line-height: 1; border-radius: 0.35em; vertical-align: middle; margin-left: 0.5rem\">ORDINALS</span>\n</mark>\n \n<mark class=\"entity\" style=\"background: #33DCFF; padding: 0.45em 0.6em; margin: 0 0.25em; line-height: 1; border-radius: 0.35em;\">\n    right\n    <span style=\"font-size: 0.8em; font-weight: bold; line-height: 1; border-radius: 0.35em; vertical-align: middle; margin-left: 0.5rem\">DIRECTION</span>\n</mark>\n again (\n<mark class=\"entity\" style=\"background: #28821e; padding: 0.45em 0.6em; margin: 0 0.25em; line-height: 1; border-radius: 0.35em;\">\n    Haarlemmer Houttuinen\n    <span style=\"font-size: 0.8em; font-weight: bold; line-height: 1; border-radius: 0.35em; vertical-align: middle; margin-left: 0.5rem\">STREET</span>\n</mark>\n)</br></div>\n\n<div class=\"entities\" style=\"line-height: 2.5; direction: ltr\">\n<mark class=\"entity\" style=\"background: #cc1212; padding: 0.45em 0.6em; margin: 0 0.25em; line-height: 1; border-radius: 0.35em;\">\n    End\n    <span style=\"font-size: 0.8em; font-weight: bold; line-height: 1; border-radius: 0.35em; vertical-align: middle; margin-left: 0.5rem\">ORDINALS</span>\n</mark>\n \n<mark class=\"entity\" style=\"background: #33DCFF; padding: 0.45em 0.6em; margin: 0 0.25em; line-height: 1; border-radius: 0.35em;\">\n    left\n    <span style=\"font-size: 0.8em; font-weight: bold; line-height: 1; border-radius: 0.35em; vertical-align: middle; margin-left: 0.5rem\">DIRECTION</span>\n</mark>\n (Korte \n<mark class=\"entity\" style=\"background: #28821e; padding: 0.45em 0.6em; margin: 0 0.25em; line-height: 1; border-radius: 0.35em;\">\n    Prinsengracht\n    <span style=\"font-size: 0.8em; font-weight: bold; line-height: 1; border-radius: 0.35em; vertical-align: middle; margin-left: 0.5rem\">STREET</span>\n</mark>\n)</br></div>\n\n<div class=\"entities\" style=\"line-height: 2.5; direction: ltr\">\n<mark class=\"entity\" style=\"background: #33DCFF; padding: 0.45em 0.6em; margin: 0 0.25em; line-height: 1; border-radius: 0.35em;\">\n    Right\n    <span style=\"font-size: 0.8em; font-weight: bold; line-height: 1; border-radius: 0.35em; vertical-align: middle; margin-left: 0.5rem\">DIRECTION</span>\n</mark>\n \n<mark class=\"entity\" style=\"background: #cc1212; padding: 0.45em 0.6em; margin: 0 0.25em; line-height: 1; border-radius: 0.35em;\">\n    over\n    <span style=\"font-size: 0.8em; font-weight: bold; line-height: 1; border-radius: 0.35em; vertical-align: middle; margin-left: 0.5rem\">ORDINALS</span>\n</mark>\n the \n<mark class=\"entity\" style=\"background: #ba03fc; padding: 0.45em 0.6em; margin: 0 0.25em; line-height: 1; border-radius: 0.35em;\">\n    bridge\n    <span style=\"font-size: 0.8em; font-weight: bold; line-height: 1; border-radius: 0.35em; vertical-align: middle; margin-left: 0.5rem\">LANDMARK</span>\n</mark>\n,</br></div>\n\n<div class=\"entities\" style=\"line-height: 2.5; direction: ltr\">\n<mark class=\"entity\" style=\"background: #cc1212; padding: 0.45em 0.6em; margin: 0 0.25em; line-height: 1; border-radius: 0.35em;\">\n    immediately\n    <span style=\"font-size: 0.8em; font-weight: bold; line-height: 1; border-radius: 0.35em; vertical-align: middle; margin-left: 0.5rem\">ORDINALS</span>\n</mark>\n \n<mark class=\"entity\" style=\"background: #33DCFF; padding: 0.45em 0.6em; margin: 0 0.25em; line-height: 1; border-radius: 0.35em;\">\n    left\n    <span style=\"font-size: 0.8em; font-weight: bold; line-height: 1; border-radius: 0.35em; vertical-align: middle; margin-left: 0.5rem\">DIRECTION</span>\n</mark>\n (Korte \n<mark class=\"entity\" style=\"background: #28821e; padding: 0.45em 0.6em; margin: 0 0.25em; line-height: 1; border-radius: 0.35em;\">\n    Prinsengracht\n    <span style=\"font-size: 0.8em; font-weight: bold; line-height: 1; border-radius: 0.35em; vertical-align: middle; margin-left: 0.5rem\">STREET</span>\n</mark>\n)</br></div>\n\n<div class=\"entities\" style=\"line-height: 2.5; direction: ltr\">Unloading place \n<mark class=\"entity\" style=\"background: #ddd; padding: 0.45em 0.6em; margin: 0 0.25em; line-height: 1; border-radius: 0.35em;\">\n    Albert Heijn\n    <span style=\"font-size: 0.8em; font-weight: bold; line-height: 1; border-radius: 0.35em; vertical-align: middle; margin-left: 0.5rem\">ORGANISATION</span>\n</mark>\n branch on the \n<mark class=\"entity\" style=\"background: #33DCFF; padding: 0.45em 0.6em; margin: 0 0.25em; line-height: 1; border-radius: 0.35em;\">\n    right\n    <span style=\"font-size: 0.8em; font-weight: bold; line-height: 1; border-radius: 0.35em; vertical-align: middle; margin-left: 0.5rem\">DIRECTION</span>\n</mark>\n</br></div></span>"
     },
     "metadata": {},
     "output_type": "display_data"
    }
   ],
   "source": [
    "if __name__ == '__main__':\n",
    "    print('__name__',sys.argv)\n",
    "    read_route(sys.argv[1])\n"
   ],
   "metadata": {
    "collapsed": false,
    "pycharm": {
     "name": "#%%\n"
    }
   }
  },
  {
   "cell_type": "code",
   "execution_count": 4,
   "outputs": [
    {
     "name": "stdout",
     "output_type": "stream",
     "text": [
      "[NbConvertApp] Converting notebook NLP.ipynb to script\r\n",
      "[NbConvertApp] Writing 9254 bytes to NLP.py\r\n",
      "[NbConvertApp] Converting notebook map.ipynb to script\r\n",
      "[NbConvertApp] Writing 15194 bytes to map.py\r\n"
     ]
    }
   ],
   "source": [
    "!jupyter nbconvert --to script *.ipynb"
   ],
   "metadata": {
    "collapsed": false,
    "pycharm": {
     "name": "#%%\n"
    }
   }
  }
 ],
 "metadata": {
  "celltoolbar": "Slideshow",
  "kernelspec": {
   "display_name": "Python 3",
   "language": "python",
   "name": "python3"
  },
  "language_info": {
   "codemirror_mode": {
    "name": "ipython",
    "version": 3
   },
   "file_extension": ".py",
   "mimetype": "text/x-python",
   "name": "python",
   "nbconvert_exporter": "python",
   "pygments_lexer": "ipython3",
   "version": "3.6.5"
  }
 },
 "nbformat": 4,
 "nbformat_minor": 1
}