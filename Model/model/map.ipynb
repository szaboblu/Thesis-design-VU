{
 "cells": [
  {
   "cell_type": "code",
   "execution_count": 1,
   "outputs": [],
   "source": [
    "import osmnx as ox\n",
    "import networkx as nx\n",
    "import pickle\n",
    "import math\n",
    "import geopandas as gpd\n",
    "import pandas as pd\n"
   ],
   "metadata": {
    "collapsed": false,
    "pycharm": {
     "name": "#%%\n"
    }
   }
  },
  {
   "cell_type": "code",
   "execution_count": 2,
   "outputs": [],
   "source": [
    "class DirectionInstruction:\n",
    "    def __init__(self, text):\n",
    "        self.text=text\n",
    "        self.data={}\n",
    "    def extend(self,label='null', value='null'):\n",
    "        self.data[label] = value"
   ],
   "metadata": {
    "collapsed": false,
    "pycharm": {
     "name": "#%%\n"
    }
   }
  },
  {
   "cell_type": "code",
   "execution_count": 3,
   "outputs": [],
   "source": [
    "\n",
    "class RouteDescription:\n",
    "    def __init__(self, destination):\n",
    "        #self.origin = origin\n",
    "        self.destination = destination\n",
    "        self.steps = []\n",
    "\n",
    "    def addStep(self, directionInstruction):\n",
    "        self.steps.append(directionInstruction)"
   ],
   "metadata": {
    "collapsed": false,
    "pycharm": {
     "name": "#%%\n"
    }
   }
  },
  {
   "cell_type": "code",
   "execution_count": 4,
   "outputs": [],
   "source": [
    "graphMiddle = \"Van Lennepbuurt, Amsterdam, North Holland, Netherlands\"\n",
    "place_name = \"Albert Heijn, 186, Amstelveenseweg, Schinkelbuurt, Amsterdam, North Holland, Netherlands, 1075XR, Netherlands\""
   ],
   "metadata": {
    "collapsed": false,
    "pycharm": {
     "name": "#%%\n"
    }
   }
  },
  {
   "cell_type": "code",
   "execution_count": 5,
   "outputs": [],
   "source": [
    "#traffic_signals = ox.geometries.geometries_from_address(place_name, tags = {\"highway\":\"traffic_signals\"} )"
   ],
   "metadata": {
    "collapsed": false,
    "pycharm": {
     "name": "#%%\n"
    }
   }
  },
  {
   "cell_type": "code",
   "execution_count": 6,
   "outputs": [],
   "source": [
    "#crossings=ox.geometries.geometries_from_address(place_name, tags = {\"crossing\":\"marked\"} )"
   ],
   "metadata": {
    "collapsed": false,
    "pycharm": {
     "name": "#%%\n"
    }
   }
  },
  {
   "cell_type": "code",
   "execution_count": 7,
   "outputs": [],
   "source": [
    "#roundabouts=ox.geometries.geometries_from_address(place_name, tags = {\"junction\":\"roundabout\"} )"
   ],
   "metadata": {
    "collapsed": false,
    "pycharm": {
     "name": "#%%\n"
    }
   }
  },
  {
   "cell_type": "code",
   "execution_count": 8,
   "outputs": [],
   "source": [
    "#highways = ox.geometries.geometries_from_address(place_name,dist=650, tags = {\"highway\":[\"motorway\",\"trunk\", \"primary\", \"secondary\",\"tertiary\",\"unclassified\", \"residential\",\"road\"]} )"
   ],
   "metadata": {
    "collapsed": false,
    "pycharm": {
     "name": "#%%\n"
    }
   }
  },
  {
   "cell_type": "code",
   "execution_count": 9,
   "outputs": [],
   "source": [
    "#graph = ox.graph_from_address(place_name, network_type='drive',simplify = True)\n",
    "#ox.distance.nearest_nodes(graph, 8.435432953597548, 47.39719131318801)\n",
    "#ox.plot.plot_graph_routes(graph,[\"N\", \"N2814628451\"] )"
   ],
   "metadata": {
    "collapsed": false,
    "pycharm": {
     "name": "#%%\n"
    }
   }
  },
  {
   "cell_type": "code",
   "execution_count": 10,
   "outputs": [],
   "source": [
    "#CHANGE BACK TO MIDDLE\n",
    "ox.settings.all_oneway = False\n",
    "ox.settings.useful_tags_node = [\"ref\", \"highway\", \"traffic_signals\"] # Default is [\"ref\", \"highway\"]\n",
    "ox.settings.useful_tags_way = [\"bridge\", \"tunnel\", \"oneway\", \"lanes\", \"ref\", \"name\", \"highway\", \"maxspeed\", \"service\",\"junction\", \"turn\",\"destination\", \"destination:ref\"] # Default is [\"bridge\", \"tunnel\", \"oneway\", \"lanes\", \"ref\", \"name\", \"highway\", \"service\", \"access\", \"area\", \"landuse\", \"width\", \"est_width\", \"junction\"]\n",
    "custom_filter='[\"highway\"~\"motorway|trunk|primary|secondary|tertiary|unclassified|residential|road\"]'\n",
    "G = ox.graph.graph_from_address(graphMiddle,dist=8000, network_type='drive',simplify=True, custom_filter=custom_filter)"
   ],
   "metadata": {
    "collapsed": false,
    "pycharm": {
     "name": "#%%\n"
    }
   }
  },
  {
   "cell_type": "code",
   "execution_count": 11,
   "outputs": [],
   "source": [
    "def linestring_to_points(feature,line):\n",
    "    return {feature:line.coords}"
   ],
   "metadata": {
    "collapsed": false,
    "pycharm": {
     "name": "#%%\n"
    }
   }
  },
  {
   "cell_type": "code",
   "execution_count": 12,
   "outputs": [],
   "source": [
    "def calculate_direction(line):\n",
    "    A=line[0]\n",
    "    B=line[1]\n",
    "    begin=math.atan2( B[1] - A[1], B[0] - A[0] ) * ( 180 / math.pi )\n",
    "\n",
    "    C=line[-2]\n",
    "    D=line[-1]\n",
    "    end=math.atan2( D[1] - C[1], D[0] - C[0] ) * ( 180 / math.pi )\n",
    "\n",
    "    return {'begin':begin, 'end':end}"
   ],
   "metadata": {
    "collapsed": false,
    "pycharm": {
     "name": "#%%\n"
    }
   }
  },
  {
   "cell_type": "code",
   "execution_count": 13,
   "outputs": [],
   "source": [
    "def stringify(string):\n",
    "    if isinstance(string, list):\n",
    "        return ' '.join(map(str, string))\n",
    "    return string"
   ],
   "metadata": {
    "collapsed": false,
    "pycharm": {
     "name": "#%%\n"
    }
   }
  },
  {
   "cell_type": "code",
   "execution_count": 14,
   "outputs": [],
   "source": [
    "# create nodes, edges GeoDataFrames and fill in all edge geometry attributes\n",
    "# then re-create a MultiDiGraph from those GeoDataFrames\n",
    "nodes, edges = ox.graph_to_gdfs(G, fill_edge_geometry=True)\n",
    "#extract the points from the LineStrings, the apply function doesn't require a dict as they remain indexed in the output DataFrame.\n",
    "edges['points'] = edges.apply(lambda x: [y for y in x['geometry'].coords], axis=1)\n",
    "# calculate the direction of the way at the beginning and ending (to decide ways connected but in opposite directions)\n",
    "edges['directions'] = edges.apply(lambda x: calculate_direction(x['points']), axis=1)\n",
    "# reanme name attribute (it is already used by the edge u, v, r struct)\n",
    "edges['streetName'] = edges.apply(lambda x: stringify(x['name']), axis=1)\n",
    "edges.rename(columns={'name':'Name'})\n",
    "edges['U'] = edges.apply(lambda x: x.name[0], axis=1)\n",
    "edges['V'] = edges.apply(lambda x: x.name[1], axis=1)\n",
    "edges['REF'] = edges.apply(lambda x: stringify(x['ref']),axis=1)\n",
    "G2 = ox.utils_graph.graph_from_gdfs(nodes, edges, graph_attrs=G.graph)\n",
    "for u, v, data in G2.edges(keys=False, data=True):\n",
    "    assert 'geometry' in data\n",
    "\n",
    "#remove the attribute containing Linestring.\n",
    "att_list = ['geometry']\n",
    "for n1, n2, d in G2.edges(data=True):\n",
    "    for att in att_list:\n",
    "        d.pop(att, None)"
   ],
   "metadata": {
    "collapsed": false,
    "pycharm": {
     "name": "#%%\n"
    }
   }
  },
  {
   "cell_type": "code",
   "execution_count": 15,
   "outputs": [],
   "source": [
    "#simple_G=ox.simplification.simplify_graph(G2)"
   ],
   "metadata": {
    "collapsed": false,
    "pycharm": {
     "name": "#%%\n"
    }
   }
  },
  {
   "cell_type": "code",
   "execution_count": 16,
   "outputs": [],
   "source": [
    "#projected=ox.project_graph(simple_G, to_crs='EPSG:3035')\n",
    "projected=ox.project_graph(G2, to_crs='EPSG:3035')\n",
    "#have to work on tolerance pl:(https://nominatim.openstreetmap.org/ui/details.html?osmtype=W&osmid=89524318)\n",
    "G_with_intersection = ox.simplification.consolidate_intersections(projected, tolerance=5, rebuild_graph=True, dead_ends=True, reconnect_edges=True)"
   ],
   "metadata": {
    "collapsed": false,
    "pycharm": {
     "name": "#%%\n"
    }
   }
  },
  {
   "cell_type": "code",
   "execution_count": 17,
   "outputs": [],
   "source": [
    "#print(ox.projection.is_projected('EPSG:3035'))\n",
    "#ox.plot_graph_folium(simple_G, node_color='g',figsize=(30,30))\n",
    "#ox.plot_graph(G_with_intersection, node_color='g',figsize=(50,50))\n",
    "#ox.plot_graph_folium(G2,popup_attribute=\"osmid\")"
   ],
   "metadata": {
    "collapsed": false,
    "pycharm": {
     "name": "#%%\n"
    }
   }
  },
  {
   "cell_type": "code",
   "execution_count": 18,
   "outputs": [],
   "source": [
    "#nodes, edges = ox.graph_to_gdfs(G_with_intersection)"
   ],
   "metadata": {
    "collapsed": false,
    "pycharm": {
     "name": "#%%\n"
    }
   }
  },
  {
   "cell_type": "code",
   "execution_count": 19,
   "outputs": [],
   "source": [
    "#nx.get_edge_attributes(G_with_intersection,name='osmid')"
   ],
   "metadata": {
    "collapsed": false,
    "pycharm": {
     "name": "#%%\n"
    }
   }
  },
  {
   "cell_type": "code",
   "execution_count": 20,
   "outputs": [],
   "source": [
    "class Point:\n",
    "    def __init__(self, x,y):\n",
    "        self.x=x\n",
    "        self.y=y"
   ],
   "metadata": {
    "collapsed": false,
    "pycharm": {
     "name": "#%%\n"
    }
   }
  },
  {
   "cell_type": "code",
   "execution_count": 21,
   "outputs": [],
   "source": [
    "def is_right(a, b, c):\n",
    "    return (b.x - a.x)*(c.y - a.y) > (b.y - a.y)*(c.x - a.x)\n",
    "    #Cross Product\n",
    "    #Where a = line point 1; b = line point 2; c = point to check against.\n",
    "    #If the formula is equal to 0, the points are colinear.\n",
    "    #If the line is horizontal, then this returns true if the point is above the line."
   ],
   "metadata": {
    "collapsed": false,
    "pycharm": {
     "name": "#%%\n"
    }
   }
  },
  {
   "cell_type": "code",
   "execution_count": 22,
   "outputs": [
    {
     "data": {
      "text/plain": "True"
     },
     "execution_count": 22,
     "metadata": {},
     "output_type": "execute_result"
    }
   ],
   "source": [
    "a = Point(47.4488,19.0714)\n",
    "b = Point(47.4523,19.0714)\n",
    "cl = Point(47.4557,19.0654)\n",
    "cr = Point(47.4565,19.0761)\n",
    "is_right(a,b,cr)"
   ],
   "metadata": {
    "collapsed": false,
    "pycharm": {
     "name": "#%%\n"
    }
   }
  },
  {
   "cell_type": "code",
   "execution_count": 23,
   "outputs": [],
   "source": [
    "def list_duplicates(l):\n",
    "    seen = set(l)\n",
    "    return list(seen)"
   ],
   "metadata": {
    "collapsed": false,
    "pycharm": {
     "name": "#%%\n"
    }
   }
  },
  {
   "cell_type": "code",
   "execution_count": 24,
   "outputs": [],
   "source": [
    "def get_closest_node(given, target, G):\n",
    "    distance=9999\n",
    "    for i, node in G[0].iterrows:\n",
    "\n",
    "        #print(edge[3][\"name\"])\n",
    "        if node.name == given:\n",
    "            #print(edge)\n",
    "            for edge2 in G_with_intersection.edges(data=True,keys=True):\n",
    "                if edge2[3][\"name\"] == target:\n",
    "                    if edge2[0] == edge[1] or edge2[1] == edge[0]:\n",
    "                        original_id = G_with_intersection.nodes[edge[1]][\"osmid_original\"]\n",
    "                        if type(original_id) is int:\n",
    "                            nodes.append(original_id)\n",
    "                        else:\n",
    "                            nodes=original_id.strip('][').split(', ')"
   ],
   "metadata": {
    "collapsed": false,
    "pycharm": {
     "name": "#%%\n"
    }
   }
  },
  {
   "cell_type": "code",
   "execution_count": 25,
   "outputs": [],
   "source": [
    "def find_street_end(street):\n",
    "    beginWays=[]\n",
    "    endWays=[]\n",
    "    for way in street:\n",
    "        numInWay = 0\n",
    "        numOutWay = 0\n",
    "        for otherway in street:\n",
    "            if otherway.U != way.V or otherway.V != way.U:\n",
    "                if way.U == otherway.V:\n",
    "                    numInWay+=1\n",
    "                if way.V == otherway.U:\n",
    "                    numOutWay+=1\n",
    "        # numInWay != 0 will find all possible sections (could be usinted somehow))\n",
    "        if numInWay == 0 :\n",
    "            beginWays.append(way)\n",
    "        if numOutWay == 0 :\n",
    "            endWays.append(way)\n",
    "\n",
    "    return {\"beginWays\":beginWays,\"endWays\":endWays}"
   ],
   "metadata": {
    "collapsed": false,
    "pycharm": {
     "name": "#%%\n"
    }
   }
  },
  {
   "cell_type": "code",
   "execution_count": 26,
   "outputs": [],
   "source": [
    "def recursive_find_section(street,r, direction=\"beginWays\"):\n",
    "    possibilites=[]\n",
    "    for way in street:\n",
    "            if (direction==\"beginWays\" and way.U == r[-1].V and way.V != r[-1].U) \\\n",
    "                    or (direction==\"endWays\" and way.V == r[-1].U and way.U != r[-1].V):\n",
    "                possibilites.append(way)\n",
    "\n",
    "    if possibilites:\n",
    "        closest=possibilites[0]\n",
    "        for candidate in possibilites:\n",
    "            if abs(candidate.directions[\"begin\"]-r[-1].directions['end']) < abs(closest.directions[\"begin\"]-r[-1].directions['end']):\n",
    "                closest=candidate\n",
    "        if (pd.DataFrame.from_records(r)['U']==closest.U).any():\n",
    "            return r\n",
    "        else:\n",
    "            r.append(closest)\n",
    "            return recursive_find_section(street,r, direction)\n",
    "    return r"
   ],
   "metadata": {
    "collapsed": false,
    "pycharm": {
     "name": "#%%\n"
    }
   }
  },
  {
   "cell_type": "code",
   "execution_count": 27,
   "outputs": [],
   "source": [
    "def find_street_section(street,street_ends, direction):\n",
    "    streetSections=[]\n",
    "    for beginWay in street_ends[direction]:\n",
    "        route=recursive_find_section(street,[[beginWay]], direction)\n",
    "        streetSections.append(pd.DataFrame.from_records(route))\n",
    "    return streetSections"
   ],
   "metadata": {
    "collapsed": false,
    "pycharm": {
     "name": "#%%\n"
    }
   }
  },
  {
   "cell_type": "code",
   "execution_count": 28,
   "outputs": [],
   "source": [
    "def sort_street(street):\n",
    "    street_ends=find_street_end(street) # correct\n",
    "    streetSectionsForward=find_street_section(street,street_ends,\"beginWays\")\n",
    "    streetSectionsBackward=find_street_section(street,street_ends,\"endWays\")\n",
    "\n",
    "    return {\"forward\":streetSectionsForward,\"backward\":streetSectionsBackward}"
   ],
   "metadata": {
    "collapsed": false,
    "pycharm": {
     "name": "#%%\n"
    }
   }
  },
  {
   "cell_type": "code",
   "execution_count": 29,
   "outputs": [],
   "source": [
    "def organise_edge_of_street(street,graph):\n",
    "    edges=[]\n",
    "    #nodes,EDGES=ox.graph_to_gdfs(graph)\n",
    "    #for edge in graph.edges(data=True,keys=True):\n",
    "    for index, edge in graph[1].iterrows():\n",
    "        #Check if a given key already exists in a dictionary\n",
    "        if isinstance(edge.streetName, str):\n",
    "            if street in edge.streetName:\n",
    "                edges.append(edge)\n",
    "        if isinstance(edge.streetName, list):\n",
    "            for name in edge.streetName:\n",
    "                if street in name:\n",
    "                    edges.append(edge)\n",
    "        if isinstance(edge.ref, str):\n",
    "            if  street in edge.ref:\n",
    "                edges.append(edge)\n",
    "        if isinstance(edge.ref, list):\n",
    "            for name in edge.ref:\n",
    "                if street in name:\n",
    "                    edges.append(edge)\n",
    "    return sort_street(edges)"
   ],
   "metadata": {
    "collapsed": false,
    "pycharm": {
     "name": "#%%\n"
    }
   }
  },
  {
   "cell_type": "code",
   "execution_count": 30,
   "outputs": [],
   "source": [
    "#for n, nbrsdict in G.adjacency():\n",
    "#    for nbr, keydict in nbrsdict.items():\n",
    "#       print(nbr, keydict)"
   ],
   "metadata": {
    "collapsed": false,
    "pycharm": {
     "name": "#%%\n"
    }
   }
  },
  {
   "cell_type": "code",
   "execution_count": 31,
   "outputs": [],
   "source": [
    "graph_G = ox.graph_to_gdfs(G2)\n",
    "#street = organise_edge_of_street(\"Amstelveenseweg\",graph_G)"
   ],
   "metadata": {
    "collapsed": false,
    "pycharm": {
     "name": "#%%\n"
    }
   }
  },
  {
   "cell_type": "code",
   "execution_count": 32,
   "outputs": [],
   "source": [
    "def get_junction_from_distance(node,way,distance):\n",
    "    #assumes direction is calculated\n",
    "    beginNode=None\n",
    "    currentDistance=0\n",
    "    nextDistancesByIndex=[0]\n",
    "    for i, begin in way.iterrows():\n",
    "        if beginNode:\n",
    "            nextDistancesByIndex.append(currentDistance)\n",
    "            currentDistance+=begin.length\n",
    "        if begin.U==node:\n",
    "            beginNode=i\n",
    "            currentDistance=begin.length\n",
    "\n",
    "    closestIndex=0\n",
    "    for index,dst in enumerate(nextDistancesByIndex):\n",
    "        if abs(dst-distance) < abs(nextDistancesByIndex[closestIndex]-distance):\n",
    "            closestIndex=index\n",
    "    return way.iloc[beginNode+closestIndex].U"
   ],
   "metadata": {
    "collapsed": false,
    "pycharm": {
     "name": "#%%\n"
    }
   }
  },
  {
   "cell_type": "code",
   "execution_count": 33,
   "outputs": [],
   "source": [
    "#print(get_junction_from_distance(46307138,street['forward'][1], 300))"
   ],
   "metadata": {
    "collapsed": false,
    "pycharm": {
     "name": "#%%\n"
    }
   }
  },
  {
   "cell_type": "code",
   "execution_count": 34,
   "outputs": [],
   "source": [
    "def get_junction_from_ordinal(node,way,ordinal):\n",
    "    #assumes direction is calculated\n",
    "    if ordinal == -1:\n",
    "        return way.iloc[-1].U\n",
    "    for i, begin in way.iterrows():\n",
    "        if begin.U==node:\n",
    "            return way.iloc[ordinal+i].U"
   ],
   "metadata": {
    "collapsed": false,
    "pycharm": {
     "name": "#%%\n"
    }
   }
  },
  {
   "cell_type": "code",
   "execution_count": 35,
   "outputs": [],
   "source": [
    "#print(get_junction_from_ordinal(46307138,street['forward'][1], 6))"
   ],
   "metadata": {
    "collapsed": false,
    "pycharm": {
     "name": "#%%\n"
    }
   }
  },
  {
   "cell_type": "code",
   "execution_count": 36,
   "outputs": [],
   "source": [
    "def get_nodes_of_way(ways,direction):\n",
    "    if direction == 'backward':\n",
    "        ways=ways.iloc[::-1]\n",
    "    nodes=[ways.iloc[0].U]\n",
    "    for way in ways.itertuples():\n",
    "        nodes.append(way.V)\n",
    "    return nodes"
   ],
   "metadata": {
    "collapsed": false,
    "pycharm": {
     "name": "#%%\n"
    }
   }
  },
  {
   "cell_type": "code",
   "execution_count": 37,
   "outputs": [],
   "source": [
    "#p=get_nodes_of_way(street['backward'][0],'backward')\n",
    "#print(p)\n",
    "#ox.plot_graph_route(G2, p)"
   ],
   "metadata": {
    "collapsed": false,
    "pycharm": {
     "name": "#%%\n"
    }
   }
  },
  {
   "cell_type": "code",
   "execution_count": 273,
   "outputs": [],
   "source": [
    "def get_intersections_of_streets(first, second, destination, graph, strict=False):\n",
    "    edges = pd.DataFrame()\n",
    "    edgesFirst = graph[1][(graph[1].REF.str.contains(first, na=False))|(graph[1].streetName.str.contains(first, na=False))]\n",
    "    edgesSecond =graph[1][(graph[1].REF.str.contains(second, na=False))|(graph[1].streetName.str.contains(second, na=False))|(graph[1].destination.str.contains(second, na=False))|(graph[1]['destination:ref'].str.contains(second, na=False))]\n",
    "    destinationEdges = graph[1][((graph[1].REF.str.contains(second, na=False))|(graph[1].streetName.str.contains(second, na=False))|(graph[1].destination.str.contains(second, na=False))|(graph[1]['destination:ref'].str.contains(second, na=False)))&((graph[1].destination.str.contains(destination, na=False))|(graph[1]['destination:ref'].str.contains(destination, na=False)))]\n",
    "    if not destinationEdges.empty:\n",
    "        edgesSecond=destinationEdges\n",
    "    if strict:\n",
    "        edgesSecond =graph[1][(graph[1].REF.str.contains(second, na=False))|(graph[1].streetName.str.contains(second, na=False))]\n",
    "    for i, edge in edgesFirst.iterrows():\n",
    "        matchingEdges= edgesSecond[edgesSecond.U==edge.V]\n",
    "        edges=pd.concat([edges, matchingEdges], ignore_index = True, axis = 0)\n",
    "    return edges"
   ],
   "metadata": {
    "collapsed": false,
    "pycharm": {
     "name": "#%%\n"
    }
   }
  },
  {
   "cell_type": "code",
   "execution_count": 274,
   "outputs": [],
   "source": [
    "def check_name(street, edge):\n",
    "    return is_in_ref(street, edge.streetName) or is_in_ref(street,edge.REF)"
   ],
   "metadata": {
    "collapsed": false,
    "pycharm": {
     "name": "#%%\n"
    }
   }
  },
  {
   "cell_type": "code",
   "execution_count": 275,
   "outputs": [],
   "source": [
    "def is_in_ref(street, ref):\n",
    "    if isinstance(ref, str):\n",
    "        if  street.lower() in ref.lower():\n",
    "            return True\n",
    "    return False"
   ],
   "metadata": {
    "collapsed": false,
    "pycharm": {
     "name": "#%%\n"
    }
   }
  },
  {
   "cell_type": "code",
   "execution_count": 276,
   "outputs": [],
   "source": [
    "def is_in_Name(street, streetName):\n",
    "    if isinstance(streetName, str):\n",
    "        if street.lower() in streetName.lower():\n",
    "            return True\n",
    "    return False"
   ],
   "metadata": {
    "collapsed": false,
    "pycharm": {
     "name": "#%%\n"
    }
   }
  },
  {
   "cell_type": "code",
   "execution_count": 277,
   "outputs": [],
   "source": [
    "#dest = get_intersections_of_streets('Kolkweg','A10', 'west', graph_G)"
   ],
   "metadata": {
    "collapsed": false,
    "pycharm": {
     "name": "#%%\n"
    }
   }
  },
  {
   "cell_type": "code",
   "execution_count": 278,
   "outputs": [],
   "source": [
    "def find_shortest_path(g,origin=\"Albert Heijn Distributiecentrum, 1, Hoofdtocht, Westerspoor, Zaandam, Zaanstad, North Holland, Netherlands, 1507CH, Netherlands\",destination=\"Kolkweg, Oostzaan, North Holland, Netherlands, 1511 HZ, Netherlands\"):\n",
    "    orig_node   = get_node_from_address(origin,g)\n",
    "    target_node = get_node_from_address(destination,g)\n",
    "    return nx.shortest_path(g, orig_node, target_node)\n"
   ],
   "metadata": {
    "collapsed": false,
    "pycharm": {
     "name": "#%%\n"
    }
   }
  },
  {
   "cell_type": "code",
   "execution_count": 279,
   "outputs": [],
   "source": [
    "def get_node_from_address(address,g):\n",
    "    y, x = ox.geocoder.geocode(address)\n",
    "    return ox.distance.nearest_nodes(g, x, y )"
   ],
   "metadata": {
    "collapsed": false,
    "pycharm": {
     "name": "#%%\n"
    }
   }
  },
  {
   "cell_type": "code",
   "execution_count": 280,
   "outputs": [],
   "source": [
    "def find_way_from_ends(u,v,g):\n",
    "    return pd.DataFrame(g[1][(g[1].U==u)&(g[1].V==v)])"
   ],
   "metadata": {
    "collapsed": false,
    "pycharm": {
     "name": "#%%\n"
    }
   }
  },
  {
   "cell_type": "code",
   "execution_count": 281,
   "outputs": [],
   "source": [
    "def get_roundabaouts(edges):\n",
    "    roundabaoutsEdges=[]\n",
    "    for index, edge in edges.iterrows():\n",
    "        if edge.junction == 'roundabout':\n",
    "            roundabaoutsEdges.append(edge)\n",
    "    roundabaouts=[]\n",
    "    already_in=[]\n",
    "    for index, e in enumerate(roundabaoutsEdges):\n",
    "        if e.U not in already_in:\n",
    "            route = recursive_find_section(roundabaoutsEdges,[e])\n",
    "            roundabaout=pd.DataFrame.from_records(route)\n",
    "            roundabaouts.append(roundabaout)\n",
    "            for i,r  in roundabaout.iterrows():\n",
    "                already_in.append(r.U)\n",
    "    return roundabaouts"
   ],
   "metadata": {
    "collapsed": false,
    "pycharm": {
     "name": "#%%\n"
    }
   }
  },
  {
   "cell_type": "code",
   "execution_count": 282,
   "outputs": [],
   "source": [
    "ROUNDABAOUTS = get_roundabaouts(graph_G[1])"
   ],
   "metadata": {
    "collapsed": false,
    "pycharm": {
     "name": "#%%\n"
    }
   }
  },
  {
   "cell_type": "code",
   "execution_count": 283,
   "outputs": [],
   "source": [
    "#coord = ox.geocoder.geocode(place_name)\n",
    "#area = ox.geocode_to_gdf([\"N2814628451\"], by_osmid=True)"
   ],
   "metadata": {
    "collapsed": false,
    "pycharm": {
     "name": "#%%\n"
    }
   }
  },
  {
   "cell_type": "code",
   "execution_count": 284,
   "outputs": [
    {
     "data": {
      "text/plain": "\"\\nfiles = ['/Users/balazs/Desktop/Thesis/Data/AH/Amstelveenseweg\\\\ 186.txt',\\n'/Users/balazs/Desktop/Thesis/Data/AH/August\\\\ Allebeplein\\\\ 12.txt',\\n'/Users/balazs/Desktop/Thesis/Data/AH/Bilderdijkstraat\\\\ 37.txt',\\n'/Users/balazs/Desktop/Thesis/Data/AH/Bourgondischelaan\\\\ 14-28.txt',\\n'/Users/balazs/Desktop/Thesis/Data/AH/Brink\\\\ 20.txt',\\n'/Users/balazs/Desktop/Thesis/Data/AH/Eef\\\\ Kamerbeekstraat\\\\ 168.txt',\\n'/Users/balazs/Desktop/Thesis/Data/AH/Groenhof\\\\ 144.txt',\\n'/Users/balazs/Desktop/Thesis/Data/AH/Haarlemmerdijk\\\\ 1.txt',\\n'/Users/balazs/Desktop/Thesis/Data/AH/Karspeldreef\\\\ 1389.txt',\\n'/Users/balazs/Desktop/Thesis/Data/AH/Maalderij\\\\ 31.txt',\\n'/Users/balazs/Desktop/Thesis/Data/AH/Rembrandthof\\\\ 49.txt',\\n'/Users/balazs/Desktop/Thesis/Data/AH/Westelijke\\\\ Halfrond\\\\ 70.txt']\\n\\nfor f in files:\\n    %run NLP.py {f}\\n\""
     },
     "execution_count": 284,
     "metadata": {},
     "output_type": "execute_result"
    }
   ],
   "source": [
    "'''\n",
    "files = ['/Users/balazs/Desktop/Thesis/Data/AH/Amstelveenseweg\\ 186.txt',\n",
    "'/Users/balazs/Desktop/Thesis/Data/AH/August\\ Allebeplein\\ 12.txt',\n",
    "'/Users/balazs/Desktop/Thesis/Data/AH/Bilderdijkstraat\\ 37.txt',\n",
    "'/Users/balazs/Desktop/Thesis/Data/AH/Bourgondischelaan\\ 14-28.txt',\n",
    "'/Users/balazs/Desktop/Thesis/Data/AH/Brink\\ 20.txt',\n",
    "'/Users/balazs/Desktop/Thesis/Data/AH/Eef\\ Kamerbeekstraat\\ 168.txt',\n",
    "'/Users/balazs/Desktop/Thesis/Data/AH/Groenhof\\ 144.txt',\n",
    "'/Users/balazs/Desktop/Thesis/Data/AH/Haarlemmerdijk\\ 1.txt',\n",
    "'/Users/balazs/Desktop/Thesis/Data/AH/Karspeldreef\\ 1389.txt',\n",
    "'/Users/balazs/Desktop/Thesis/Data/AH/Maalderij\\ 31.txt',\n",
    "'/Users/balazs/Desktop/Thesis/Data/AH/Rembrandthof\\ 49.txt',\n",
    "'/Users/balazs/Desktop/Thesis/Data/AH/Westelijke\\ Halfrond\\ 70.txt']\n",
    "\n",
    "for f in files:\n",
    "    %run NLP.py {f}\n",
    "'''"
   ],
   "metadata": {
    "collapsed": false,
    "pycharm": {
     "name": "#%%\n"
    }
   }
  },
  {
   "cell_type": "code",
   "execution_count": 285,
   "outputs": [],
   "source": [
    "def readFile(address):\n",
    "    with open(f'../../Data/Routes/{address}.pickle', 'rb') as file:\n",
    "        return pickle.load(file)"
   ],
   "metadata": {
    "collapsed": false,
    "pycharm": {
     "name": "#%%\n"
    }
   }
  },
  {
   "cell_type": "code",
   "execution_count": 286,
   "outputs": [],
   "source": [
    "def get_closest_way(begin_u,ways,g):\n",
    "    shorest=9999\n",
    "    way = None\n",
    "    for i, w in ways.iterrows():\n",
    "        try:\n",
    "            path= nx.shortest_path_length(g, begin_u, w.U)\n",
    "            if path < shorest:\n",
    "                shorest=path\n",
    "                way=w\n",
    "        except nx.NetworkXNoPath:\n",
    "            print('No path')\n",
    "    return pd.DataFrame(way)"
   ],
   "metadata": {
    "collapsed": false,
    "pycharm": {
     "name": "#%%\n"
    }
   }
  },
  {
   "cell_type": "code",
   "execution_count": 287,
   "outputs": [],
   "source": [
    "def find_intersection(way,street, destination, g , graph, strict=False ):\n",
    "    nextWayPossible=pd.DataFrame()\n",
    "    last = way.iloc[-1]\n",
    "    if isinstance(last['name'], list):\n",
    "        for s in last['name']:\n",
    "            next = get_intersections_of_streets(s,street, destination, g,strict)\n",
    "            if not next.empty:\n",
    "                nextWayPossible=pd.concat([nextWayPossible,next], ignore_index = True, axis = 0)\n",
    "    if isinstance(last['name'], str):\n",
    "        next = get_intersections_of_streets( last['name'],street, destination, g,strict)\n",
    "        if not next.empty:\n",
    "            nextWayPossible=pd.concat([nextWayPossible,next], ignore_index = True, axis = 0)\n",
    "    if isinstance(last['ref'], list):\n",
    "        for s in last['ref']:\n",
    "            next = get_intersections_of_streets(s,street, destination, g,strict)\n",
    "            if not next.empty:\n",
    "                nextWayPossible=pd.concat([nextWayPossible,next], ignore_index = True, axis = 0)\n",
    "    if isinstance(last['ref'], str):\n",
    "        next = get_intersections_of_streets( last['ref'],street, destination, g,strict)\n",
    "        if not next.empty:\n",
    "                nextWayPossible=pd.concat([nextWayPossible,next], ignore_index = True, axis = 0)\n",
    "    return nextWayPossible"
   ],
   "metadata": {
    "collapsed": false,
    "pycharm": {
     "name": "#%%\n"
    }
   }
  },
  {
   "cell_type": "code",
   "execution_count": 288,
   "outputs": [],
   "source": [
    "def process_Route(Route, graphXML, graph):\n",
    "    destination=Route.destination\n",
    "    lastWay=pd.DataFrame()\n",
    "    lastWay=pd.concat([lastWay,find_way_from_ends(find_shortest_path(graph)[-2],find_shortest_path(graph)[-1],graphXML)],ignore_index = True, axis = 0)\n",
    "    for step in Route.steps:\n",
    "        data = step.data\n",
    "        destination=  ''\n",
    "        if 'neighbourhood'in data:\n",
    "            destination=data['neighbourhood']\n",
    "        if \"city\"in data:\n",
    "            destination=data[\"city\"]\n",
    "        nextWayPossible=pd.DataFrame()\n",
    "        if \"street\" in data:\n",
    "             nextWayPossible= find_intersection(lastWay,data['street'], destination, graphXML , graph, False )\n",
    "        #print(nextWayPossible)\n",
    "        #return get_closest_way(way.iloc[-1].U,nextWayPossible,graph).T\n",
    "        nextWay=get_closest_way(lastWay.iloc[-1].U,nextWayPossible,graph)\n",
    "        #return nextWay.T\n",
    "        lastWay=pd.concat([lastWay,nextWay.T],ignore_index=True, axis = 0)\n",
    "        lastWay = iterate_until_named_road(lastWay,graphXML)\n",
    "        if \"street\" in data:\n",
    "            lastWay = find_street_from_between(data['street'], lastWay, graphXML, graph)\n",
    "    return lastWay"
   ],
   "metadata": {
    "collapsed": false,
    "pycharm": {
     "name": "#%%\n"
    }
   }
  },
  {
   "cell_type": "code",
   "execution_count": 289,
   "outputs": [],
   "source": [
    "def iterate_until_named_road(ways,g):\n",
    "    nextWay=ways.iloc[-1]\n",
    "    if nextWay.notnull().streetName or nextWay.notnull().ref:\n",
    "        return ways\n",
    "    else:\n",
    "        nextWay=pd.DataFrame(iterate_until_named_road_recursive(nextWay,g)).T\n",
    "        #print(nextWay)\n",
    "        return pd.concat([ways,nextWay],ignore_index=True, axis = 0)"
   ],
   "metadata": {
    "collapsed": false,
    "pycharm": {
     "name": "#%%\n"
    }
   }
  },
  {
   "cell_type": "code",
   "execution_count": 290,
   "outputs": [],
   "source": [
    "def iterate_until_named_road_recursive(way,g):\n",
    "    if way.notnull().streetName or way.notnull().ref:\n",
    "        return way\n",
    "    if way.isnull().streetName or way.isnull().ref:\n",
    "        possibles= pd.DataFrame(g[1][g[1].U==way.V])\n",
    "        nextWay=possibles.iloc[0]\n",
    "        return iterate_until_named_road_recursive(nextWay,g)"
   ],
   "metadata": {
    "collapsed": false,
    "pycharm": {
     "name": "#%%\n"
    }
   }
  },
  {
   "cell_type": "code",
   "execution_count": 291,
   "outputs": [],
   "source": [
    "def find_street_from_between(street, ways, g, graph):\n",
    "    last = ways.iloc[-1]\n",
    "    if not check_name(street, last):\n",
    "        possibles=find_intersection(ways,street, '', g , graph, True )\n",
    "        next=get_closest_way(last.U,possibles,graph).T\n",
    "        print(next)\n",
    "        return pd.concat([ways,next],ignore_index = True, axis = 0)\n",
    "    return ways"
   ],
   "metadata": {
    "collapsed": false,
    "pycharm": {
     "name": "#%%\n"
    }
   }
  },
  {
   "cell_type": "code",
   "execution_count": 292,
   "outputs": [],
   "source": [
    "ROUTE=readFile('Amstelveenseweg 186')"
   ],
   "metadata": {
    "collapsed": false,
    "pycharm": {
     "name": "#%%\n"
    }
   }
  },
  {
   "cell_type": "code",
   "execution_count": 293,
   "outputs": [
    {
     "name": "stdout",
     "output_type": "stream",
     "text": [
      "                                               osmid        highway oneway  \\\n",
      "0  [7377831, 7377192, 221380395, 75922269, 679563...  motorway_link   True   \n",
      "\n",
      "  reversed    length          bridge  \\\n",
      "0    False  2712.015  [yes, viaduct]   \n",
      "\n",
      "                                               name  \\\n",
      "0  [Ringweg-West, Ringweg-Noord, Eerste Coentunnel]   \n",
      "\n",
      "                                              points  \\\n",
      "0  [(4.8732441, 52.4265386), (4.8733583, 52.42642...   \n",
      "\n",
      "                                          directions  \\\n",
      "0  {'begin': -44.46832663173141, 'end': -142.0265...   \n",
      "\n",
      "                                     streetName  ...   lanes        ref  \\\n",
      "0  Ringweg-West Ringweg-Noord Eerste Coentunnel  ...  [2, 3]  [A10, A8]   \n",
      "\n",
      "      REF junction destination destination:ref tunnel turn service  \\\n",
      "0  A10 A8      NaN         NaN             NaN    yes  NaN     NaN   \n",
      "\n",
      "                                            geometry  \n",
      "0  LINESTRING (4.8732441 52.4265386, 4.8549523 52...  \n",
      "\n",
      "[1 rows x 23 columns]\n",
      "                         osmid    highway oneway reversed   length bridge  \\\n",
      "1  [7382923, 7382950, 7382951]  secondary   True    False  125.369    yes   \n",
      "\n",
      "                name                                             points  \\\n",
      "1  Cornelis Lelylaan  [(4.8430501, 52.3577447), (4.8432843, 52.35778...   \n",
      "\n",
      "                                          directions         streetName  ...  \\\n",
      "1  {'begin': 9.430581595222929, 'end': 0.58161763...  Cornelis Lelylaan  ...   \n",
      "\n",
      "  lanes   ref   REF junction destination destination:ref tunnel turn service  \\\n",
      "1     2  S106  S106      NaN         NaN             NaN    NaN  NaN     NaN   \n",
      "\n",
      "                                            geometry  \n",
      "1  LINESTRING (4.8430501 52.3577447, 4.8448609 52...  \n",
      "\n",
      "[1 rows x 23 columns]\n"
     ]
    }
   ],
   "source": [
    "final_route=process_Route(ROUTE, graph_G, G2)\n",
    "#graph_G[1][graph_G[1].U==2972589242]"
   ],
   "metadata": {
    "collapsed": false,
    "pycharm": {
     "name": "#%%\n"
    }
   }
  },
  {
   "cell_type": "code",
   "execution_count": null,
   "outputs": [],
   "source": [
    "#lastWay = iterate_until_named_road(final_route,graph_G)"
   ],
   "metadata": {
    "collapsed": false,
    "pycharm": {
     "name": "#%%\n"
    }
   }
  },
  {
   "cell_type": "code",
   "execution_count": null,
   "outputs": [],
   "source": [
    "address = 'Amstelveenseweg 186'\n",
    "Route=readFile(address)\n",
    "last_step = 'Coentunnelweg'\n",
    "path = []#get_intersection_of_streets(last_step,last_step)\n",
    "print(path, type(path))\n",
    "for step in Route.steps:\n",
    "    try:\n",
    "        street = step.data['street']\n",
    "        print(street)\n",
    "        r = get_intersection_of_streets(last_step,street)\n",
    "        print(r)\n",
    "        last_step = street\n",
    "        path.extend(r)\n",
    "        #assert x\n",
    "    except KeyError as AssertionError:\n",
    "        pass\n",
    "end = find_shortest_path(last_step,Route.destination)\n",
    "path.extend(end)\n",
    "print(path)\n",
    "#path = sum(path, [])\n",
    "#path = list(dict.fromkeys(path))"
   ],
   "metadata": {
    "collapsed": false,
    "pycharm": {
     "name": "#%%\n"
    }
   }
  },
  {
   "cell_type": "code",
   "execution_count": 295,
   "outputs": [
    {
     "name": "stdout",
     "output_type": "stream",
     "text": [
      "[NbConvertApp] Converting notebook NLP.ipynb to script\r\n",
      "[NbConvertApp] Writing 9296 bytes to NLP.py\r\n",
      "[NbConvertApp] Converting notebook map.ipynb to script\r\n",
      "[NbConvertApp] Writing 19834 bytes to map.py\r\n"
     ]
    }
   ],
   "source": [
    "!jupyter nbconvert --to script *.ipynb"
   ],
   "metadata": {
    "collapsed": false,
    "pycharm": {
     "name": "#%%\n"
    }
   }
  },
  {
   "cell_type": "code",
   "execution_count": 296,
   "outputs": [],
   "source": [
    "#n1 = 46494259\n",
    "#n2 = 3657588020\n",
    "#r=  nx.shortest_path(G, n1, n2)\n",
    "#ox.plot_graph_route(G, r)\n",
    "#ox.save_graph_shapefile(G, filename=os.path.join('~/test_graph'))"
   ],
   "metadata": {
    "collapsed": false,
    "pycharm": {
     "name": "#%%\n"
    }
   }
  }
 ],
 "metadata": {
  "kernelspec": {
   "display_name": "Python 3",
   "language": "python",
   "name": "python3"
  },
  "language_info": {
   "codemirror_mode": {
    "name": "ipython",
    "version": 2
   },
   "file_extension": ".py",
   "mimetype": "text/x-python",
   "name": "python",
   "nbconvert_exporter": "python",
   "pygments_lexer": "ipython2",
   "version": "2.7.6"
  }
 },
 "nbformat": 4,
 "nbformat_minor": 0
}